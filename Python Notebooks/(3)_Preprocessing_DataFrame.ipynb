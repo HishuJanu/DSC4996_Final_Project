{
  "cells": [
    {
      "cell_type": "code",
      "execution_count": null,
      "metadata": {
        "id": "O96LwZEZ6OAX"
      },
      "outputs": [],
      "source": [
        "import pandas as pd"
      ]
    },
    {
      "cell_type": "code",
      "execution_count": null,
      "metadata": {
        "id": "4J9DKZYr6L2p"
      },
      "outputs": [],
      "source": [
        "ProposalPaymentDetails = pd.read_excel('/content/drive/MyDrive/4th_Year/DSC4996/04_ProposalPaymentDetails_31102021.xlsx')\n",
        "ProposalPaymentDetails.head()"
      ]
    },
    {
      "cell_type": "code",
      "execution_count": null,
      "metadata": {
        "id": "iYQAPyLv6Lyp"
      },
      "outputs": [],
      "source": [
        "IndividualPolicyWithRiders = pd.read_excel('/content/drive/MyDrive/4th_Year/DSC4996/05_Individual Policy with riders.xls')\n",
        "IndividualPolicyWithRiders.head()"
      ]
    },
    {
      "cell_type": "code",
      "execution_count": null,
      "metadata": {
        "id": "QFgp3Nua6LtW"
      },
      "outputs": [],
      "source": [
        "ClaimPaymentRequestionData = pd.read_excel('/content/drive/MyDrive/4th_Year/DSC4996/07_Claim-Payment_Requestion data (NLP for Claims 1).xlsx')\n",
        "ClaimPaymentRequestionData.head()"
      ]
    },
    {
      "cell_type": "code",
      "source": [
        "RIDERS = pd.read_excel('/content/drive/MyDrive/4th_Year/DSC4996/10_RIDERS.xlsx')\n",
        "RIDERS.head()"
      ],
      "metadata": {
        "colab": {
          "base_uri": "https://localhost:8080/",
          "height": 206
        },
        "id": "NS8_TGz7uuCZ",
        "outputId": "040fec2a-3255-4387-a224-402b7ab3cc2a"
      },
      "execution_count": null,
      "outputs": [
        {
          "output_type": "execute_result",
          "data": {
            "text/plain": [
              "  LOOKUPCODE        DESCRIPTION\n",
              "0      ACCID  PERSONAL ACCIDENT\n",
              "1      BASIC        BASIC COVER\n",
              "2      CRITL   CRITICAL ILLNESS\n",
              "3     DENTAL     DENTAL SURGERY\n",
              "4      FUNEX   FUNERAL EXPENSES"
            ],
            "text/html": [
              "\n",
              "  <div id=\"df-2c7e3bd1-642e-4d90-80fb-a77145c509bd\" class=\"colab-df-container\">\n",
              "    <div>\n",
              "<style scoped>\n",
              "    .dataframe tbody tr th:only-of-type {\n",
              "        vertical-align: middle;\n",
              "    }\n",
              "\n",
              "    .dataframe tbody tr th {\n",
              "        vertical-align: top;\n",
              "    }\n",
              "\n",
              "    .dataframe thead th {\n",
              "        text-align: right;\n",
              "    }\n",
              "</style>\n",
              "<table border=\"1\" class=\"dataframe\">\n",
              "  <thead>\n",
              "    <tr style=\"text-align: right;\">\n",
              "      <th></th>\n",
              "      <th>LOOKUPCODE</th>\n",
              "      <th>DESCRIPTION</th>\n",
              "    </tr>\n",
              "  </thead>\n",
              "  <tbody>\n",
              "    <tr>\n",
              "      <th>0</th>\n",
              "      <td>ACCID</td>\n",
              "      <td>PERSONAL ACCIDENT</td>\n",
              "    </tr>\n",
              "    <tr>\n",
              "      <th>1</th>\n",
              "      <td>BASIC</td>\n",
              "      <td>BASIC COVER</td>\n",
              "    </tr>\n",
              "    <tr>\n",
              "      <th>2</th>\n",
              "      <td>CRITL</td>\n",
              "      <td>CRITICAL ILLNESS</td>\n",
              "    </tr>\n",
              "    <tr>\n",
              "      <th>3</th>\n",
              "      <td>DENTAL</td>\n",
              "      <td>DENTAL SURGERY</td>\n",
              "    </tr>\n",
              "    <tr>\n",
              "      <th>4</th>\n",
              "      <td>FUNEX</td>\n",
              "      <td>FUNERAL EXPENSES</td>\n",
              "    </tr>\n",
              "  </tbody>\n",
              "</table>\n",
              "</div>\n",
              "    <div class=\"colab-df-buttons\">\n",
              "\n",
              "  <div class=\"colab-df-container\">\n",
              "    <button class=\"colab-df-convert\" onclick=\"convertToInteractive('df-2c7e3bd1-642e-4d90-80fb-a77145c509bd')\"\n",
              "            title=\"Convert this dataframe to an interactive table.\"\n",
              "            style=\"display:none;\">\n",
              "\n",
              "  <svg xmlns=\"http://www.w3.org/2000/svg\" height=\"24px\" viewBox=\"0 -960 960 960\">\n",
              "    <path d=\"M120-120v-720h720v720H120Zm60-500h600v-160H180v160Zm220 220h160v-160H400v160Zm0 220h160v-160H400v160ZM180-400h160v-160H180v160Zm440 0h160v-160H620v160ZM180-180h160v-160H180v160Zm440 0h160v-160H620v160Z\"/>\n",
              "  </svg>\n",
              "    </button>\n",
              "\n",
              "  <style>\n",
              "    .colab-df-container {\n",
              "      display:flex;\n",
              "      gap: 12px;\n",
              "    }\n",
              "\n",
              "    .colab-df-convert {\n",
              "      background-color: #E8F0FE;\n",
              "      border: none;\n",
              "      border-radius: 50%;\n",
              "      cursor: pointer;\n",
              "      display: none;\n",
              "      fill: #1967D2;\n",
              "      height: 32px;\n",
              "      padding: 0 0 0 0;\n",
              "      width: 32px;\n",
              "    }\n",
              "\n",
              "    .colab-df-convert:hover {\n",
              "      background-color: #E2EBFA;\n",
              "      box-shadow: 0px 1px 2px rgba(60, 64, 67, 0.3), 0px 1px 3px 1px rgba(60, 64, 67, 0.15);\n",
              "      fill: #174EA6;\n",
              "    }\n",
              "\n",
              "    .colab-df-buttons div {\n",
              "      margin-bottom: 4px;\n",
              "    }\n",
              "\n",
              "    [theme=dark] .colab-df-convert {\n",
              "      background-color: #3B4455;\n",
              "      fill: #D2E3FC;\n",
              "    }\n",
              "\n",
              "    [theme=dark] .colab-df-convert:hover {\n",
              "      background-color: #434B5C;\n",
              "      box-shadow: 0px 1px 3px 1px rgba(0, 0, 0, 0.15);\n",
              "      filter: drop-shadow(0px 1px 2px rgba(0, 0, 0, 0.3));\n",
              "      fill: #FFFFFF;\n",
              "    }\n",
              "  </style>\n",
              "\n",
              "    <script>\n",
              "      const buttonEl =\n",
              "        document.querySelector('#df-2c7e3bd1-642e-4d90-80fb-a77145c509bd button.colab-df-convert');\n",
              "      buttonEl.style.display =\n",
              "        google.colab.kernel.accessAllowed ? 'block' : 'none';\n",
              "\n",
              "      async function convertToInteractive(key) {\n",
              "        const element = document.querySelector('#df-2c7e3bd1-642e-4d90-80fb-a77145c509bd');\n",
              "        const dataTable =\n",
              "          await google.colab.kernel.invokeFunction('convertToInteractive',\n",
              "                                                    [key], {});\n",
              "        if (!dataTable) return;\n",
              "\n",
              "        const docLinkHtml = 'Like what you see? Visit the ' +\n",
              "          '<a target=\"_blank\" href=https://colab.research.google.com/notebooks/data_table.ipynb>data table notebook</a>'\n",
              "          + ' to learn more about interactive tables.';\n",
              "        element.innerHTML = '';\n",
              "        dataTable['output_type'] = 'display_data';\n",
              "        await google.colab.output.renderOutput(dataTable, element);\n",
              "        const docLink = document.createElement('div');\n",
              "        docLink.innerHTML = docLinkHtml;\n",
              "        element.appendChild(docLink);\n",
              "      }\n",
              "    </script>\n",
              "  </div>\n",
              "\n",
              "\n",
              "<div id=\"df-7e161d78-5505-489f-a8f2-31e4e054fe24\">\n",
              "  <button class=\"colab-df-quickchart\" onclick=\"quickchart('df-7e161d78-5505-489f-a8f2-31e4e054fe24')\"\n",
              "            title=\"Suggest charts\"\n",
              "            style=\"display:none;\">\n",
              "\n",
              "<svg xmlns=\"http://www.w3.org/2000/svg\" height=\"24px\"viewBox=\"0 0 24 24\"\n",
              "     width=\"24px\">\n",
              "    <g>\n",
              "        <path d=\"M19 3H5c-1.1 0-2 .9-2 2v14c0 1.1.9 2 2 2h14c1.1 0 2-.9 2-2V5c0-1.1-.9-2-2-2zM9 17H7v-7h2v7zm4 0h-2V7h2v10zm4 0h-2v-4h2v4z\"/>\n",
              "    </g>\n",
              "</svg>\n",
              "  </button>\n",
              "\n",
              "<style>\n",
              "  .colab-df-quickchart {\n",
              "      --bg-color: #E8F0FE;\n",
              "      --fill-color: #1967D2;\n",
              "      --hover-bg-color: #E2EBFA;\n",
              "      --hover-fill-color: #174EA6;\n",
              "      --disabled-fill-color: #AAA;\n",
              "      --disabled-bg-color: #DDD;\n",
              "  }\n",
              "\n",
              "  [theme=dark] .colab-df-quickchart {\n",
              "      --bg-color: #3B4455;\n",
              "      --fill-color: #D2E3FC;\n",
              "      --hover-bg-color: #434B5C;\n",
              "      --hover-fill-color: #FFFFFF;\n",
              "      --disabled-bg-color: #3B4455;\n",
              "      --disabled-fill-color: #666;\n",
              "  }\n",
              "\n",
              "  .colab-df-quickchart {\n",
              "    background-color: var(--bg-color);\n",
              "    border: none;\n",
              "    border-radius: 50%;\n",
              "    cursor: pointer;\n",
              "    display: none;\n",
              "    fill: var(--fill-color);\n",
              "    height: 32px;\n",
              "    padding: 0;\n",
              "    width: 32px;\n",
              "  }\n",
              "\n",
              "  .colab-df-quickchart:hover {\n",
              "    background-color: var(--hover-bg-color);\n",
              "    box-shadow: 0 1px 2px rgba(60, 64, 67, 0.3), 0 1px 3px 1px rgba(60, 64, 67, 0.15);\n",
              "    fill: var(--button-hover-fill-color);\n",
              "  }\n",
              "\n",
              "  .colab-df-quickchart-complete:disabled,\n",
              "  .colab-df-quickchart-complete:disabled:hover {\n",
              "    background-color: var(--disabled-bg-color);\n",
              "    fill: var(--disabled-fill-color);\n",
              "    box-shadow: none;\n",
              "  }\n",
              "\n",
              "  .colab-df-spinner {\n",
              "    border: 2px solid var(--fill-color);\n",
              "    border-color: transparent;\n",
              "    border-bottom-color: var(--fill-color);\n",
              "    animation:\n",
              "      spin 1s steps(1) infinite;\n",
              "  }\n",
              "\n",
              "  @keyframes spin {\n",
              "    0% {\n",
              "      border-color: transparent;\n",
              "      border-bottom-color: var(--fill-color);\n",
              "      border-left-color: var(--fill-color);\n",
              "    }\n",
              "    20% {\n",
              "      border-color: transparent;\n",
              "      border-left-color: var(--fill-color);\n",
              "      border-top-color: var(--fill-color);\n",
              "    }\n",
              "    30% {\n",
              "      border-color: transparent;\n",
              "      border-left-color: var(--fill-color);\n",
              "      border-top-color: var(--fill-color);\n",
              "      border-right-color: var(--fill-color);\n",
              "    }\n",
              "    40% {\n",
              "      border-color: transparent;\n",
              "      border-right-color: var(--fill-color);\n",
              "      border-top-color: var(--fill-color);\n",
              "    }\n",
              "    60% {\n",
              "      border-color: transparent;\n",
              "      border-right-color: var(--fill-color);\n",
              "    }\n",
              "    80% {\n",
              "      border-color: transparent;\n",
              "      border-right-color: var(--fill-color);\n",
              "      border-bottom-color: var(--fill-color);\n",
              "    }\n",
              "    90% {\n",
              "      border-color: transparent;\n",
              "      border-bottom-color: var(--fill-color);\n",
              "    }\n",
              "  }\n",
              "</style>\n",
              "\n",
              "  <script>\n",
              "    async function quickchart(key) {\n",
              "      const quickchartButtonEl =\n",
              "        document.querySelector('#' + key + ' button');\n",
              "      quickchartButtonEl.disabled = true;  // To prevent multiple clicks.\n",
              "      quickchartButtonEl.classList.add('colab-df-spinner');\n",
              "      try {\n",
              "        const charts = await google.colab.kernel.invokeFunction(\n",
              "            'suggestCharts', [key], {});\n",
              "      } catch (error) {\n",
              "        console.error('Error during call to suggestCharts:', error);\n",
              "      }\n",
              "      quickchartButtonEl.classList.remove('colab-df-spinner');\n",
              "      quickchartButtonEl.classList.add('colab-df-quickchart-complete');\n",
              "    }\n",
              "    (() => {\n",
              "      let quickchartButtonEl =\n",
              "        document.querySelector('#df-7e161d78-5505-489f-a8f2-31e4e054fe24 button');\n",
              "      quickchartButtonEl.style.display =\n",
              "        google.colab.kernel.accessAllowed ? 'block' : 'none';\n",
              "    })();\n",
              "  </script>\n",
              "</div>\n",
              "    </div>\n",
              "  </div>\n"
            ]
          },
          "metadata": {},
          "execution_count": 5
        }
      ]
    },
    {
      "cell_type": "code",
      "execution_count": null,
      "metadata": {
        "id": "SYrRr__X6Lp9",
        "colab": {
          "base_uri": "https://localhost:8080/"
        },
        "outputId": "1529961e-12be-42b8-fe3e-fe2ca76fcc55"
      },
      "outputs": [
        {
          "output_type": "stream",
          "name": "stdout",
          "text": [
            "# # # # # # # # # # ProposalPaymentDetails # # # # # # # # # #\n",
            "\n",
            "\n",
            "<class 'pandas.core.frame.DataFrame'>\n",
            "RangeIndex: 38308 entries, 0 to 38307\n",
            "Data columns (total 11 columns):\n",
            " #   Column               Non-Null Count  Dtype \n",
            "---  ------               --------------  ----- \n",
            " 0   ProposalID           38308 non-null  int64 \n",
            " 1   PolicyNo             33237 non-null  object\n",
            " 2   Plan                 38308 non-null  object\n",
            " 3   PolicyTerm           38308 non-null  int64 \n",
            " 4   PremiumTerm          38308 non-null  int64 \n",
            " 5   PaymentFrequency     38308 non-null  int64 \n",
            " 6   PaymentPaidBy        38291 non-null  object\n",
            " 7   Others               1772 non-null   object\n",
            " 8   ModeOfCommunication  38308 non-null  object\n",
            " 9   PreferredReceipt     38291 non-null  object\n",
            " 10  PreferredLanguage    38308 non-null  object\n",
            "dtypes: int64(4), object(7)\n",
            "memory usage: 3.2+ MB\n",
            "None\n",
            "\n",
            "\n",
            "\n",
            "# # # # # # # # # # IndividualPolicyWithRiders # # # # # # # # # #\n",
            "\n",
            "\n",
            "<class 'pandas.core.frame.DataFrame'>\n",
            "RangeIndex: 25088 entries, 0 to 25087\n",
            "Data columns (total 11 columns):\n",
            " #   Column                  Non-Null Count  Dtype  \n",
            "---  ------                  --------------  -----  \n",
            " 0   DOCUMENTNO              25088 non-null  object \n",
            " 1   NATUREOFBUSINESS        23243 non-null  object \n",
            " 2   COMMENCEDATE            25088 non-null  object \n",
            " 3   EXPIRYDATE              25088 non-null  object \n",
            " 4   PREMIUMAMOUNT           25088 non-null  float64\n",
            " 5   FOREIGNPREMIUMAMOUNT    25088 non-null  float64\n",
            " 6   TYPE                    25088 non-null  object \n",
            " 7   SUMINSURED              25088 non-null  float64\n",
            " 8   PREMIUMAMOUNT_1         25088 non-null  float64\n",
            " 9   FOREIGNPREMIUMAMOUNT_1  25088 non-null  float64\n",
            " 10  CASHLESSOPTION          1235 non-null   object \n",
            "dtypes: float64(5), object(6)\n",
            "memory usage: 2.1+ MB\n",
            "None\n",
            "\n",
            "\n",
            "\n",
            "# # # # # # # # # # ClaimPaymentRequestionData # # # # # # # # # #\n",
            "\n",
            "\n",
            "<class 'pandas.core.frame.DataFrame'>\n",
            "RangeIndex: 65536 entries, 0 to 65535\n",
            "Data columns (total 23 columns):\n",
            " #   Column              Non-Null Count  Dtype  \n",
            "---  ------              --------------  -----  \n",
            " 0   ADDRESS1            65533 non-null  object \n",
            " 1   ADDRESS2            54971 non-null  object \n",
            " 2   DOCUMENTNO          65536 non-null  object \n",
            " 3   EFFECTIVEFROM       57344 non-null  object \n",
            " 4   EFFECTIVETO         57344 non-null  object \n",
            " 5   EXPIRYDATE          65536 non-null  object \n",
            " 6   LASTPAYMENTDATE     65475 non-null  object \n",
            " 7   STATUS              65536 non-null  object \n",
            " 8   ACCIDENTDATE        65536 non-null  object \n",
            " 9   ACCIDENTTIME        65529 non-null  object \n",
            " 10  SUMINSURED          65536 non-null  float64\n",
            " 11  REGISTRATIONNUMBER  0 non-null      float64\n",
            " 12  PLACEOFLOSS         3629 non-null   object \n",
            " 13  CLAIMNATURE         65536 non-null  object \n",
            " 14  PLACEOFINSPECTION   0 non-null      float64\n",
            " 15  DOCTORNAME          1579 non-null   object \n",
            " 16  DATEOFDISCHARGE     10593 non-null  object \n",
            " 17  PATIENTNAME         5933 non-null   object \n",
            " 18  RELATIONSHIP        309 non-null    object \n",
            " 19  CASHPLANPERDAY      65536 non-null  int64  \n",
            " 20  CLAIMANTAMOUNT      65536 non-null  int64  \n",
            " 21  TREATYNATURE        0 non-null      float64\n",
            " 22  TREATYTYPE          0 non-null      float64\n",
            "dtypes: float64(5), int64(2), object(16)\n",
            "memory usage: 11.5+ MB\n",
            "None\n",
            "\n",
            "\n",
            "\n",
            "# # # # # # # # # # RIDERS # # # # # # # # # #\n",
            "\n",
            "\n",
            "<class 'pandas.core.frame.DataFrame'>\n",
            "RangeIndex: 30 entries, 0 to 29\n",
            "Data columns (total 2 columns):\n",
            " #   Column       Non-Null Count  Dtype \n",
            "---  ------       --------------  ----- \n",
            " 0   LOOKUPCODE   30 non-null     object\n",
            " 1   DESCRIPTION  30 non-null     object\n",
            "dtypes: object(2)\n",
            "memory usage: 608.0+ bytes\n",
            "None\n"
          ]
        }
      ],
      "source": [
        "print('# # # # # # # # # # ProposalPaymentDetails # # # # # # # # # #')\n",
        "print('\\n')\n",
        "print(ProposalPaymentDetails.info())\n",
        "print('\\n'*2)\n",
        "\n",
        "print('# # # # # # # # # # IndividualPolicyWithRiders # # # # # # # # # #')\n",
        "print('\\n')\n",
        "print(IndividualPolicyWithRiders.info())\n",
        "print('\\n'*2)\n",
        "\n",
        "print('# # # # # # # # # # ClaimPaymentRequestionData # # # # # # # # # #')\n",
        "print('\\n')\n",
        "print(ClaimPaymentRequestionData.info())\n",
        "print('\\n'*2)\n",
        "\n",
        "print('# # # # # # # # # # RIDERS # # # # # # # # # #')\n",
        "print('\\n')\n",
        "print(RIDERS.info())"
      ]
    },
    {
      "cell_type": "code",
      "execution_count": null,
      "metadata": {
        "id": "EQgrcs6y6LmL",
        "colab": {
          "base_uri": "https://localhost:8080/"
        },
        "outputId": "b8a5907d-a1bf-4abf-f047-0bd22bb96d1c"
      },
      "outputs": [
        {
          "output_type": "stream",
          "name": "stdout",
          "text": [
            "# # # # # # # # # # ProposalPaymentDetails # # # # # # # # # #\n",
            "\n",
            "\n",
            "ProposalID                 0\n",
            "PolicyNo                5071\n",
            "Plan                       0\n",
            "PolicyTerm                 0\n",
            "PremiumTerm                0\n",
            "PaymentFrequency           0\n",
            "PaymentPaidBy             17\n",
            "Others                 36536\n",
            "ModeOfCommunication        0\n",
            "PreferredReceipt          17\n",
            "PreferredLanguage          0\n",
            "dtype: int64\n",
            "\n",
            "\n",
            "\n",
            "# # # # # # # # # # IndividualPolicyWithRiders # # # # # # # # # #\n",
            "\n",
            "\n",
            "DOCUMENTNO                    0\n",
            "NATUREOFBUSINESS           1845\n",
            "COMMENCEDATE                  0\n",
            "EXPIRYDATE                    0\n",
            "PREMIUMAMOUNT                 0\n",
            "FOREIGNPREMIUMAMOUNT          0\n",
            "TYPE                          0\n",
            "SUMINSURED                    0\n",
            "PREMIUMAMOUNT_1               0\n",
            "FOREIGNPREMIUMAMOUNT_1        0\n",
            "CASHLESSOPTION            23853\n",
            "dtype: int64\n",
            "\n",
            "\n",
            "\n",
            "# # # # # # # # # # ClaimPaymentRequestionData # # # # # # # # # #\n",
            "\n",
            "\n",
            "ADDRESS1                  3\n",
            "ADDRESS2              10565\n",
            "DOCUMENTNO                0\n",
            "EFFECTIVEFROM          8192\n",
            "EFFECTIVETO            8192\n",
            "EXPIRYDATE                0\n",
            "LASTPAYMENTDATE          61\n",
            "STATUS                    0\n",
            "ACCIDENTDATE              0\n",
            "ACCIDENTTIME              7\n",
            "SUMINSURED                0\n",
            "REGISTRATIONNUMBER    65536\n",
            "PLACEOFLOSS           61907\n",
            "CLAIMNATURE               0\n",
            "PLACEOFINSPECTION     65536\n",
            "DOCTORNAME            63957\n",
            "DATEOFDISCHARGE       54943\n",
            "PATIENTNAME           59603\n",
            "RELATIONSHIP          65227\n",
            "CASHPLANPERDAY            0\n",
            "CLAIMANTAMOUNT            0\n",
            "TREATYNATURE          65536\n",
            "TREATYTYPE            65536\n",
            "dtype: int64\n",
            "\n",
            "\n",
            "\n",
            "# # # # # # # # # # RIDERS # # # # # # # # # #\n",
            "\n",
            "\n",
            "LOOKUPCODE     0\n",
            "DESCRIPTION    0\n",
            "dtype: int64\n"
          ]
        }
      ],
      "source": [
        "print('# # # # # # # # # # ProposalPaymentDetails # # # # # # # # # #')\n",
        "print('\\n')\n",
        "print(ProposalPaymentDetails.isna().sum())\n",
        "print('\\n'*2)\n",
        "\n",
        "print('# # # # # # # # # # IndividualPolicyWithRiders # # # # # # # # # #')\n",
        "print('\\n')\n",
        "print(IndividualPolicyWithRiders.isna().sum())\n",
        "print('\\n'*2)\n",
        "\n",
        "print('# # # # # # # # # # ClaimPaymentRequestionData # # # # # # # # # #')\n",
        "print('\\n')\n",
        "print(ClaimPaymentRequestionData.isna().sum())\n",
        "print('\\n'*2)\n",
        "\n",
        "print('# # # # # # # # # # RIDERS # # # # # # # # # #')\n",
        "print('\\n')\n",
        "print(RIDERS.isna().sum())"
      ]
    },
    {
      "cell_type": "code",
      "execution_count": null,
      "metadata": {
        "id": "NXm7pXF16LiK"
      },
      "outputs": [],
      "source": [
        "ProposalPaymentDetails.dropna(subset=['PolicyNo'], inplace=True)"
      ]
    },
    {
      "cell_type": "code",
      "execution_count": null,
      "metadata": {
        "id": "1sVzftj7yDlV"
      },
      "outputs": [],
      "source": [
        "ClaimPaymentRequestionData.rename(columns={\"DOCUMENTNO\": \"PolicyNo\"}, inplace = True)\n",
        "IndividualPolicyWithRiders.rename(columns={\"DOCUMENTNO\": \"PolicyNo\"}, inplace = True)\n",
        "RIDERS.rename(columns={\"LOOKUPCODE\": \"TYPE\"}, inplace = True)"
      ]
    },
    {
      "cell_type": "code",
      "execution_count": null,
      "metadata": {
        "id": "2YGR-FNqs_0m"
      },
      "outputs": [],
      "source": [
        "ClaimPaymentRequestionData['PolicyNo'] = ClaimPaymentRequestionData['PolicyNo'].apply(lambda x: '-'.join(x.replace(' ','').split('-')[0:2]))\n",
        "IndividualPolicyWithRiders['PolicyNo'] = IndividualPolicyWithRiders['PolicyNo'].apply(lambda x: '-'.join(x.replace(' ','').split('-')[0:2]))\n",
        "ProposalPaymentDetails['PolicyNo'] = ProposalPaymentDetails['PolicyNo'].apply(lambda x: '-'.join(x.replace(' ','').split('-')[0:2]))\n",
        "RIDERS['TYPE'] = RIDERS['TYPE'].apply(lambda x: x.replace(' ', ''))"
      ]
    },
    {
      "cell_type": "code",
      "execution_count": null,
      "metadata": {
        "id": "7s3PFw1fwk5h"
      },
      "outputs": [],
      "source": [
        "result = pd.merge(IndividualPolicyWithRiders, ClaimPaymentRequestionData, how=\"outer\", on=[\"PolicyNo\"])\n",
        "df = pd.merge(result, ProposalPaymentDetails, how=\"outer\", on=[\"PolicyNo\"])"
      ]
    },
    {
      "cell_type": "code",
      "source": [
        "df.info()"
      ],
      "metadata": {
        "colab": {
          "base_uri": "https://localhost:8080/"
        },
        "id": "FITYJfDniMGD",
        "outputId": "e4a080fb-d711-405e-94bd-12393de21cc7"
      },
      "execution_count": null,
      "outputs": [
        {
          "output_type": "stream",
          "name": "stdout",
          "text": [
            "<class 'pandas.core.frame.DataFrame'>\n",
            "Int64Index: 118384 entries, 0 to 118383\n",
            "Data columns (total 43 columns):\n",
            " #   Column                  Non-Null Count   Dtype  \n",
            "---  ------                  --------------   -----  \n",
            " 0   PolicyNo                118384 non-null  object \n",
            " 1   NATUREOFBUSINESS        23496 non-null   object \n",
            " 2   COMMENCEDATE            25341 non-null   object \n",
            " 3   EXPIRYDATE_x            25341 non-null   object \n",
            " 4   PREMIUMAMOUNT           25341 non-null   float64\n",
            " 5   FOREIGNPREMIUMAMOUNT    25341 non-null   float64\n",
            " 6   TYPE                    25341 non-null   object \n",
            " 7   SUMINSURED_x            25341 non-null   float64\n",
            " 8   PREMIUMAMOUNT_1         25341 non-null   float64\n",
            " 9   FOREIGNPREMIUMAMOUNT_1  25341 non-null   float64\n",
            " 10  CASHLESSOPTION          1274 non-null    object \n",
            " 11  ADDRESS1                66026 non-null   object \n",
            " 12  ADDRESS2                55447 non-null   object \n",
            " 13  EFFECTIVEFROM           57641 non-null   object \n",
            " 14  EFFECTIVETO             57641 non-null   object \n",
            " 15  EXPIRYDATE_y            66029 non-null   object \n",
            " 16  LASTPAYMENTDATE         65968 non-null   object \n",
            " 17  STATUS                  66029 non-null   object \n",
            " 18  ACCIDENTDATE            66029 non-null   object \n",
            " 19  ACCIDENTTIME            66022 non-null   object \n",
            " 20  SUMINSURED_y            66029 non-null   float64\n",
            " 21  REGISTRATIONNUMBER      0 non-null       float64\n",
            " 22  PLACEOFLOSS             3909 non-null    object \n",
            " 23  CLAIMNATURE             66029 non-null   object \n",
            " 24  PLACEOFINSPECTION       0 non-null       float64\n",
            " 25  DOCTORNAME              1617 non-null    object \n",
            " 26  DATEOFDISCHARGE         11030 non-null   object \n",
            " 27  PATIENTNAME             6309 non-null    object \n",
            " 28  RELATIONSHIP            323 non-null     object \n",
            " 29  CASHPLANPERDAY          66029 non-null   float64\n",
            " 30  CLAIMANTAMOUNT          66029 non-null   float64\n",
            " 31  TREATYNATURE            0 non-null       float64\n",
            " 32  TREATYTYPE              0 non-null       float64\n",
            " 33  ProposalID              47058 non-null   float64\n",
            " 34  Plan                    47058 non-null   object \n",
            " 35  PolicyTerm              47058 non-null   float64\n",
            " 36  PremiumTerm             47058 non-null   float64\n",
            " 37  PaymentFrequency        47058 non-null   float64\n",
            " 38  PaymentPaidBy           46980 non-null   object \n",
            " 39  Others                  2510 non-null    object \n",
            " 40  ModeOfCommunication     47058 non-null   object \n",
            " 41  PreferredReceipt        46980 non-null   object \n",
            " 42  PreferredLanguage       47058 non-null   object \n",
            "dtypes: float64(16), object(27)\n",
            "memory usage: 39.7+ MB\n"
          ]
        }
      ]
    },
    {
      "cell_type": "code",
      "source": [
        "df = df[['PolicyNo', 'ADDRESS1', 'ADDRESS2', 'EFFECTIVEFROM', 'EFFECTIVETO', 'EXPIRYDATE_x', 'LASTPAYMENTDATE', 'STATUS', 'SUMINSURED_x', 'NATUREOFBUSINESS', 'PREMIUMAMOUNT',\n",
        "         'TYPE', 'PremiumTerm', 'PaymentFrequency']]\n",
        "\n",
        "df.rename(columns={\"EXPIRYDATE_x\" : \"EXPIRYDATE\", \"SUMINSURED_x\" : \"SUMINSURED\"}, inplace = True)"
      ],
      "metadata": {
        "colab": {
          "base_uri": "https://localhost:8080/"
        },
        "id": "F47aCQANiIh8",
        "outputId": "62da6755-b8a0-413a-9579-5dbd9847b1bf"
      },
      "execution_count": null,
      "outputs": [
        {
          "output_type": "stream",
          "name": "stderr",
          "text": [
            "<ipython-input-38-b2c65b606e39>:4: SettingWithCopyWarning: \n",
            "A value is trying to be set on a copy of a slice from a DataFrame\n",
            "\n",
            "See the caveats in the documentation: https://pandas.pydata.org/pandas-docs/stable/user_guide/indexing.html#returning-a-view-versus-a-copy\n",
            "  df.rename(columns={\"EXPIRYDATE_x\" : \"EXPIRYDATE\", \"SUMINSURED_x\" : \"SUMINSURED\"}, inplace = True)\n"
          ]
        }
      ]
    },
    {
      "cell_type": "code",
      "source": [
        "df.info()"
      ],
      "metadata": {
        "colab": {
          "base_uri": "https://localhost:8080/"
        },
        "id": "ur2au92DiXI0",
        "outputId": "3a6e7c77-74de-4dea-8417-b22453b9309f"
      },
      "execution_count": null,
      "outputs": [
        {
          "output_type": "stream",
          "name": "stdout",
          "text": [
            "<class 'pandas.core.frame.DataFrame'>\n",
            "Int64Index: 118384 entries, 0 to 118383\n",
            "Data columns (total 14 columns):\n",
            " #   Column            Non-Null Count   Dtype  \n",
            "---  ------            --------------   -----  \n",
            " 0   PolicyNo          118384 non-null  object \n",
            " 1   ADDRESS1          66026 non-null   object \n",
            " 2   ADDRESS2          55447 non-null   object \n",
            " 3   EFFECTIVEFROM     57641 non-null   object \n",
            " 4   EFFECTIVETO       57641 non-null   object \n",
            " 5   EXPIRYDATE        25341 non-null   object \n",
            " 6   LASTPAYMENTDATE   65968 non-null   object \n",
            " 7   STATUS            66029 non-null   object \n",
            " 8   SUMINSURED        25341 non-null   float64\n",
            " 9   NATUREOFBUSINESS  23496 non-null   object \n",
            " 10  PREMIUMAMOUNT     25341 non-null   float64\n",
            " 11  TYPE              25341 non-null   object \n",
            " 12  PremiumTerm       47058 non-null   float64\n",
            " 13  PaymentFrequency  47058 non-null   float64\n",
            "dtypes: float64(4), object(10)\n",
            "memory usage: 13.5+ MB\n"
          ]
        }
      ]
    },
    {
      "cell_type": "code",
      "source": [
        "df.isna().sum()"
      ],
      "metadata": {
        "colab": {
          "base_uri": "https://localhost:8080/"
        },
        "id": "-bcMA7eYip8a",
        "outputId": "6c056ed6-0f32-4a07-9661-7e2f5adef051"
      },
      "execution_count": null,
      "outputs": [
        {
          "output_type": "execute_result",
          "data": {
            "text/plain": [
              "PolicyNo                0\n",
              "ADDRESS1            52358\n",
              "ADDRESS2            62937\n",
              "EFFECTIVEFROM       60743\n",
              "EFFECTIVETO         60743\n",
              "EXPIRYDATE          93043\n",
              "LASTPAYMENTDATE     52416\n",
              "STATUS              52355\n",
              "SUMINSURED          93043\n",
              "NATUREOFBUSINESS    94888\n",
              "PREMIUMAMOUNT       93043\n",
              "TYPE                93043\n",
              "PremiumTerm         71326\n",
              "PaymentFrequency    71326\n",
              "dtype: int64"
            ]
          },
          "metadata": {},
          "execution_count": 40
        }
      ]
    },
    {
      "cell_type": "code",
      "source": [
        "df.shape"
      ],
      "metadata": {
        "colab": {
          "base_uri": "https://localhost:8080/"
        },
        "id": "dddBN1FFQ-ty",
        "outputId": "caa7871e-b970-428e-9992-5d2f0315e87b"
      },
      "execution_count": null,
      "outputs": [
        {
          "output_type": "execute_result",
          "data": {
            "text/plain": [
              "(118384, 14)"
            ]
          },
          "metadata": {},
          "execution_count": 41
        }
      ]
    },
    {
      "cell_type": "code",
      "execution_count": null,
      "metadata": {
        "id": "SFxVWcEXQXb8"
      },
      "outputs": [],
      "source": [
        "df.dropna(subset=['TYPE'], inplace=True)\n",
        "df['TYPE'] = df['TYPE'].apply(lambda x: x.replace('_R1','').replace(' ',''))"
      ]
    },
    {
      "cell_type": "code",
      "execution_count": null,
      "metadata": {
        "colab": {
          "base_uri": "https://localhost:8080/"
        },
        "id": "1nQELKbePWLh",
        "outputId": "b897f4cb-edb3-4ee8-e21b-4ee228a6bc83"
      },
      "outputs": [
        {
          "output_type": "execute_result",
          "data": {
            "text/plain": [
              "PolicyNo                0\n",
              "ADDRESS1            24738\n",
              "ADDRESS2            24759\n",
              "EFFECTIVEFROM       24980\n",
              "EFFECTIVETO         24980\n",
              "EXPIRYDATE              0\n",
              "LASTPAYMENTDATE     24738\n",
              "STATUS              24738\n",
              "SUMINSURED              0\n",
              "NATUREOFBUSINESS     1845\n",
              "PREMIUMAMOUNT           0\n",
              "TYPE                    0\n",
              "PremiumTerm          6031\n",
              "PaymentFrequency     6031\n",
              "dtype: int64"
            ]
          },
          "metadata": {},
          "execution_count": 43
        }
      ],
      "source": [
        "df.isna().sum()"
      ]
    },
    {
      "cell_type": "code",
      "source": [
        "df = pd.merge(df, RIDERS, how=\"left\", on=\"TYPE\")\n",
        "df.info()"
      ],
      "metadata": {
        "colab": {
          "base_uri": "https://localhost:8080/"
        },
        "id": "6XGtKzFFqQX5",
        "outputId": "52ea9b78-d8c3-45c2-cad5-891b996c2ab6"
      },
      "execution_count": null,
      "outputs": [
        {
          "output_type": "stream",
          "name": "stdout",
          "text": [
            "<class 'pandas.core.frame.DataFrame'>\n",
            "Int64Index: 25341 entries, 0 to 25340\n",
            "Data columns (total 15 columns):\n",
            " #   Column            Non-Null Count  Dtype  \n",
            "---  ------            --------------  -----  \n",
            " 0   PolicyNo          25341 non-null  object \n",
            " 1   ADDRESS1          603 non-null    object \n",
            " 2   ADDRESS2          582 non-null    object \n",
            " 3   EFFECTIVEFROM     361 non-null    object \n",
            " 4   EFFECTIVETO       361 non-null    object \n",
            " 5   EXPIRYDATE        25341 non-null  object \n",
            " 6   LASTPAYMENTDATE   603 non-null    object \n",
            " 7   STATUS            603 non-null    object \n",
            " 8   SUMINSURED        25341 non-null  float64\n",
            " 9   NATUREOFBUSINESS  23496 non-null  object \n",
            " 10  PREMIUMAMOUNT     25341 non-null  float64\n",
            " 11  TYPE              25341 non-null  object \n",
            " 12  PremiumTerm       19310 non-null  float64\n",
            " 13  PaymentFrequency  19310 non-null  float64\n",
            " 14  DESCRIPTION       22392 non-null  object \n",
            "dtypes: float64(4), object(11)\n",
            "memory usage: 3.1+ MB\n"
          ]
        }
      ]
    },
    {
      "cell_type": "code",
      "source": [
        "df.isna().sum()"
      ],
      "metadata": {
        "colab": {
          "base_uri": "https://localhost:8080/"
        },
        "id": "ywIAQ96wqQSy",
        "outputId": "89090100-6649-4072-a92d-e35fce7df018"
      },
      "execution_count": null,
      "outputs": [
        {
          "output_type": "execute_result",
          "data": {
            "text/plain": [
              "PolicyNo                0\n",
              "ADDRESS1            24738\n",
              "ADDRESS2            24759\n",
              "EFFECTIVEFROM       24980\n",
              "EFFECTIVETO         24980\n",
              "EXPIRYDATE              0\n",
              "LASTPAYMENTDATE     24738\n",
              "STATUS              24738\n",
              "SUMINSURED              0\n",
              "NATUREOFBUSINESS     1845\n",
              "PREMIUMAMOUNT           0\n",
              "TYPE                    0\n",
              "PremiumTerm          6031\n",
              "PaymentFrequency     6031\n",
              "DESCRIPTION          2949\n",
              "dtype: int64"
            ]
          },
          "metadata": {},
          "execution_count": 45
        }
      ]
    },
    {
      "cell_type": "code",
      "source": [
        "df.dropna(subset=['DESCRIPTION'], inplace=True)\n",
        "df = df[['PolicyNo', 'ADDRESS1', 'ADDRESS2', 'EFFECTIVEFROM', 'EFFECTIVETO', 'EXPIRYDATE', 'LASTPAYMENTDATE', 'STATUS', 'DESCRIPTION', 'SUMINSURED', 'NATUREOFBUSINESS', 'PREMIUMAMOUNT',\n",
        "         'PremiumTerm', 'PaymentFrequency']]\n",
        "df.rename(columns={\"DESCRIPTION\" : \"TYPE\"}, inplace = True)"
      ],
      "metadata": {
        "id": "_T-bQqpm3nFr"
      },
      "execution_count": null,
      "outputs": []
    },
    {
      "cell_type": "code",
      "source": [
        "df.isna().sum()"
      ],
      "metadata": {
        "colab": {
          "base_uri": "https://localhost:8080/"
        },
        "id": "EbrnHFjK39Cf",
        "outputId": "7383a333-7ec7-44dc-f8ab-7b8ead2e9d19"
      },
      "execution_count": null,
      "outputs": [
        {
          "output_type": "execute_result",
          "data": {
            "text/plain": [
              "PolicyNo                0\n",
              "ADDRESS1            21850\n",
              "ADDRESS2            21870\n",
              "EFFECTIVEFROM       22072\n",
              "EFFECTIVETO         22072\n",
              "EXPIRYDATE              0\n",
              "LASTPAYMENTDATE     21850\n",
              "STATUS              21850\n",
              "TYPE                    0\n",
              "SUMINSURED              0\n",
              "NATUREOFBUSINESS     1840\n",
              "PREMIUMAMOUNT           0\n",
              "PremiumTerm          5712\n",
              "PaymentFrequency     5712\n",
              "dtype: int64"
            ]
          },
          "metadata": {},
          "execution_count": 47
        }
      ]
    },
    {
      "cell_type": "code",
      "source": [
        "df.shape"
      ],
      "metadata": {
        "colab": {
          "base_uri": "https://localhost:8080/"
        },
        "id": "m1y_1mszqQGO",
        "outputId": "454cac80-2c8a-49e7-c82b-a98ebffee3ea"
      },
      "execution_count": null,
      "outputs": [
        {
          "output_type": "execute_result",
          "data": {
            "text/plain": [
              "(22392, 14)"
            ]
          },
          "metadata": {},
          "execution_count": 48
        }
      ]
    },
    {
      "cell_type": "code",
      "source": [
        "def condition(x):\n",
        "  if x == 'CRITICAL ILLNESS':\n",
        "    return 'CRITICAL ILLNESS COVER'\n",
        "  elif x == 'PERSONAL ACCIDENT':\n",
        "    return 'PERSONAL ACCIDENT COVER'\n",
        "  else:\n",
        "    return x\n",
        "\n",
        "\n",
        "df['TYPE'] = df['TYPE'].apply(lambda x: condition(x))"
      ],
      "metadata": {
        "id": "qoRnS4ovSDz-"
      },
      "execution_count": null,
      "outputs": []
    },
    {
      "cell_type": "code",
      "source": [
        "df.set_index('PolicyNo', inplace = True)\n",
        "df.head()"
      ],
      "metadata": {
        "id": "iXZNrHoDy18D"
      },
      "execution_count": null,
      "outputs": []
    },
    {
      "cell_type": "code",
      "source": [
        "df.to_excel('/content/drive/MyDrive/4th_Year/DSC4996/Preprocessed_data.xlsx')"
      ],
      "metadata": {
        "id": "-LtEnuM442xm"
      },
      "execution_count": null,
      "outputs": []
    }
  ],
  "metadata": {
    "colab": {
      "provenance": []
    },
    "kernelspec": {
      "display_name": "Python 3",
      "name": "python3"
    },
    "language_info": {
      "name": "python"
    }
  },
  "nbformat": 4,
  "nbformat_minor": 0
}