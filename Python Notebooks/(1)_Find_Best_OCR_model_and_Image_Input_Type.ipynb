{
  "cells": [
    {
      "cell_type": "code",
      "execution_count": null,
      "metadata": {
        "id": "Wbepu59tTsIL"
      },
      "outputs": [],
      "source": [
        "# !pip install easyocr -U\n",
        "# !pip install python-Levenshtein -U\n",
        "# !pip install pytesseract -U\n",
        "# !apt install tesseract-ocr\n",
        "# !apt install libtesseract-dev\n",
        "# !python3 -m pip install paddlepaddle-gpu -U\n",
        "# !pip install paddleocr -U"
      ]
    },
    {
      "cell_type": "code",
      "execution_count": null,
      "metadata": {
        "id": "o3Y0veSbF9f_"
      },
      "outputs": [],
      "source": [
        "import cv2 as cv\n",
        "from google.colab.patches import cv2_imshow\n",
        "import easyocr\n",
        "import numpy as np\n",
        "import pandas as pd\n",
        "import Levenshtein\n",
        "import matplotlib.pyplot as plt\n",
        "import pytesseract\n",
        "from paddleocr import PaddleOCR, draw_ocr"
      ]
    },
    {
      "cell_type": "markdown",
      "metadata": {
        "id": "sLuHDmJsBMxR"
      },
      "source": [
        "# Import Images"
      ]
    },
    {
      "cell_type": "code",
      "execution_count": null,
      "metadata": {
        "id": "eXXFQ_LhJqxV"
      },
      "outputs": [],
      "source": [
        "fig = plt.figure(figsize=(25,40))\n",
        "\n",
        "for i in range(1,4):\n",
        "  img = cv.imread(f'/content/drive/MyDrive/4th_Year/DSC4996/Claim_forms/{i}.png')\n",
        "  fig.add_subplot(1, 3, i)\n",
        "  plt.imshow(img)\n",
        "  plt.axis('off')\n",
        "  plt.title(f'Image {i}')"
      ]
    },
    {
      "cell_type": "markdown",
      "metadata": {
        "id": "ls-IKyu7YRxz"
      },
      "source": [
        "# Prepair Image Set"
      ]
    },
    {
      "cell_type": "code",
      "execution_count": null,
      "metadata": {
        "id": "AOduGyFDEVbu"
      },
      "outputs": [],
      "source": [
        "img = {}\n",
        "\n",
        "for i in range(1,16):\n",
        "  img[f'BGR image {i}'] = cv.imread(f'/content/drive/MyDrive/4th_Year/DSC4996/Claim_forms/{i}.png')\n",
        "  img[f'RGB image {i}'] = cv.cvtColor(img[f'BGR image {i}'], cv.COLOR_BGR2RGB)\n",
        "  img[f'GrayScale image {i}'] = cv.cvtColor(img[f'BGR image {i}'], cv.COLOR_BGR2GRAY)\n",
        "  _ , img[f'OTSU_85 image {i}'] = cv.threshold(img[f'GrayScale image {i}'], 85, 255, cv.THRESH_BINARY + cv.THRESH_OTSU)\n",
        "\n",
        "raw_image_type = ['BGR', 'RGB', 'GrayScale', 'OTSU_85']\n",
        "kernel = np.array([[0, -1, 0],\n",
        "                   [-1, 5,-1],\n",
        "                   [0, -1, 0]])\n",
        "\n",
        "for image_type in raw_image_type:\n",
        "  for i in range(1,16):\n",
        "    img[f\"{image_type} Sharpen image {i}\"] = cv.filter2D(img[f'{image_type} image {i}'], ddepth=-1, kernel=kernel)"
      ]
    },
    {
      "cell_type": "markdown",
      "metadata": {
        "id": "8zsdDFHPYVyM"
      },
      "source": [
        "# Plot the Image Set"
      ]
    },
    {
      "cell_type": "code",
      "execution_count": null,
      "metadata": {
        "id": "VvXT2gmCQ90i"
      },
      "outputs": [],
      "source": [
        "image_type = ['BGR', 'RGB', 'GrayScale', 'OTSU_85', 'BGR Sharpen', 'RGB Sharpen', 'GrayScale Sharpen', 'OTSU_85 Sharpen']\n",
        "\n",
        "position = 1\n",
        "fig = plt.figure(figsize=(23, 50))\n",
        "\n",
        "for img_type in image_type:\n",
        "  fig.add_subplot(4, 3, position)\n",
        "\n",
        "  plt.imshow(img[f'{img_type} image 1'])\n",
        "  plt.axis('off')\n",
        "  plt.title(f\"{img_type} image 1\")\n",
        "\n",
        "  position += 1"
      ]
    },
    {
      "cell_type": "markdown",
      "metadata": {
        "id": "HzP9KSsA6-vS"
      },
      "source": [
        "# **Finding the best image input type among BGR, RGB, GrayScale, BGR Sharpen, RGB Sharpen, and GrayScale Sharpen using EasyOCR, PaddlePaddleOCR, and PyTesseract with Levenshtein's CER, WER values**"
      ]
    },
    {
      "cell_type": "markdown",
      "metadata": {
        "id": "KazUiv3kAw3X"
      },
      "source": [
        "### EasyOCR Model"
      ]
    },
    {
      "cell_type": "code",
      "execution_count": null,
      "metadata": {
        "id": "SHZFDm_9GqAp"
      },
      "outputs": [],
      "source": [
        "def easyOCR(image):\n",
        "  reader = easyocr.Reader(['en'])\n",
        "  result = reader.readtext(image)\n",
        "\n",
        "  text = ''\n",
        "  for i in range(0,len(result)):\n",
        "    text += result[i][1] + \" \"\n",
        "\n",
        "  text = text.replace('  ', ' ').replace('   ', ' ').replace('    ', ' ')\n",
        "\n",
        "  return text.strip()"
      ]
    },
    {
      "cell_type": "markdown",
      "metadata": {
        "id": "RDWgz-9QT3oZ"
      },
      "source": [
        "### Predicting Text using EasyOCR for each image input type"
      ]
    },
    {
      "cell_type": "code",
      "execution_count": null,
      "metadata": {
        "id": "MljZtf-gYvNU"
      },
      "outputs": [],
      "source": [
        "predicted_text = {}\n",
        "\n",
        "for i in range(1,16):\n",
        "  for input_img in image_type:\n",
        "    predicted_text[f'{input_img} image {i} EasyOCR text'] = easyOCR(img[f'{input_img} image {i}'])\n",
        "    if i==1:\n",
        "      print(\"\")\n",
        "      print(f\"{input_img} image {i} EasyOCR text :-\")\n",
        "      print(predicted_text[f'{input_img} image {i} EasyOCR text'])\n",
        "      print(\"\")"
      ]
    },
    {
      "cell_type": "markdown",
      "metadata": {
        "id": "wcXHOuHt35no"
      },
      "source": [
        "### pyTesseract Model"
      ]
    },
    {
      "cell_type": "code",
      "execution_count": null,
      "metadata": {
        "id": "8mq45a9538VL"
      },
      "outputs": [],
      "source": [
        "def pytes(image):\n",
        "  result = pytesseract.image_to_string(image)\n",
        "  result = ' '.join(result.split())\n",
        "  result = result.replace('  ', ' ').replace('   ', ' ').replace('    ', ' ')\n",
        "  return result"
      ]
    },
    {
      "cell_type": "code",
      "execution_count": null,
      "metadata": {
        "id": "Nm4iIMtW4iK6"
      },
      "outputs": [],
      "source": [
        "for i in range(1,16):\n",
        "  for input_img in image_type:\n",
        "    predicted_text[f'{input_img} image {i} pyTesseract text'] = pytes(img[f'{input_img} image {i}'])\n",
        "    if i == 1:\n",
        "      print(f\"{input_img} image {i} pyTesseract text :-\")\n",
        "      print(predicted_text[f'{input_img} image {i} pyTesseract text'])\n",
        "      print(\"\")"
      ]
    },
    {
      "cell_type": "markdown",
      "metadata": {
        "id": "GIELiUYtvlEr"
      },
      "source": [
        "### PaddlePaddleOCR Model"
      ]
    },
    {
      "cell_type": "code",
      "execution_count": null,
      "metadata": {
        "id": "5dqr__1QvkqQ"
      },
      "outputs": [],
      "source": [
        "def ppOCR(image):\n",
        "  ocr = PaddleOCR(use_angle_cls = True, lang = 'en', use_gpu=True)\n",
        "  result = ocr.ocr(image)\n",
        "\n",
        "  text = ''\n",
        "  for i in range(len(result[0])):\n",
        "    text += result[0][i][1][0] + \" \"\n",
        "\n",
        "  text = text.replace('  ', ' ').replace('   ', ' ').replace('    ', ' ')\n",
        "\n",
        "  return text.strip()"
      ]
    },
    {
      "cell_type": "code",
      "execution_count": null,
      "metadata": {
        "id": "Ac8BiVEjwiMT"
      },
      "outputs": [],
      "source": [
        "for i in range(1,16):\n",
        "  for input_img in image_type:\n",
        "    predicted_text[f'{input_img} image {i} PaddlePaddleOCR text'] = ppOCR(img[f'{input_img} image {i}'])\n",
        "    if i == 1:\n",
        "      print('')\n",
        "      print(f\"{input_img} image {i} PaddlePaddleOCR text :-\")\n",
        "      print(predicted_text[f'{input_img} image {i} PaddlePaddleOCR text'])\n",
        "      print(\"\")\n",
        "      print('')"
      ]
    },
    {
      "cell_type": "markdown",
      "metadata": {
        "id": "PU89MIRBUAC3"
      },
      "source": [
        "### **Get CER (Character Error Rate) and WER (Word Error Rate) for every input image type using Levenshtein Method**"
      ]
    },
    {
      "cell_type": "markdown",
      "metadata": {
        "id": "HWDvoqJbfVu7"
      },
      "source": [
        "### Levenshtein Method"
      ]
    },
    {
      "cell_type": "code",
      "execution_count": null,
      "metadata": {
        "id": "UTc4hOANcS6J"
      },
      "outputs": [],
      "source": [
        "def LevenshteinDist(ref, pred):\n",
        "  cer = Levenshtein.distance(ref, pred) / len(ref)\n",
        "  wer = Levenshtein.distance(ref.split(), pred.split()) / len(ref.split())\n",
        "\n",
        "  return round(cer,4), round(wer,4)"
      ]
    },
    {
      "cell_type": "markdown",
      "metadata": {
        "id": "mVH_2j_wFaok"
      },
      "source": [
        "### Ground Truth texts"
      ]
    },
    {
      "cell_type": "code",
      "execution_count": null,
      "metadata": {
        "id": "eSLs8tmLZE5M"
      },
      "outputs": [],
      "source": [
        "original_text = {}\n",
        "\n",
        "with open('/content/drive/MyDrive/4th_Year/DSC4996/Claim_forms/original_text.txt', 'r') as f:\n",
        "  txt = f.read()\n",
        "  txt = txt.split('\\n\\n')\n",
        "\n",
        "for i in range(len(txt)):\n",
        "  original_text[f'image {i+1}'] = txt[i]\n",
        "\n",
        "for i in range(1,4):\n",
        "  print(original_text[f'image {i}'])\n",
        "  print('\\n')"
      ]
    },
    {
      "cell_type": "code",
      "execution_count": null,
      "metadata": {
        "id": "Q4AT0DcoyIj8"
      },
      "outputs": [],
      "source": [
        "df = {}\n",
        "\n",
        "df['Image input type and model'] = []\n",
        "for input_img in image_type:\n",
        "  for model in ['EasyOCR', 'pyTesseract', 'PaddlePaddleOCR']:\n",
        "    df['Image input type and model'].append(input_img + ' ' + model)\n",
        "\n",
        "for i in range(1, 16):\n",
        "  df[f'CER for image {i}'], df[f'WER for image {i}'] = [], []"
      ]
    },
    {
      "cell_type": "markdown",
      "metadata": {
        "id": "rmb2PeK777y_"
      },
      "source": [
        "### Calculating CER and WER for EasyOCR model predicted text"
      ]
    },
    {
      "cell_type": "code",
      "execution_count": null,
      "metadata": {
        "id": "LZqtQtYoU_4b"
      },
      "outputs": [],
      "source": [
        "for i in range(1,16):\n",
        "  for input_img in image_type:\n",
        "    cer, wer = LevenshteinDist(original_text[f'image {i}'], predicted_text[f'{input_img} image {i} EasyOCR text'])\n",
        "    df[f'CER for image {i}'].append(cer)\n",
        "    df[f'WER for image {i}'].append(wer)"
      ]
    },
    {
      "cell_type": "markdown",
      "metadata": {
        "id": "FXH7Lm5b8DfB"
      },
      "source": [
        "### Calculating CER and WER for pyTesseract model predicted text"
      ]
    },
    {
      "cell_type": "code",
      "execution_count": null,
      "metadata": {
        "id": "NPoAo5lV8TY6"
      },
      "outputs": [],
      "source": [
        "for i in range(1,16):\n",
        "  for input_img in image_type:\n",
        "    cer, wer = LevenshteinDist(original_text[f'image {i}'], predicted_text[f'{input_img} image {i} pyTesseract text'])\n",
        "    df[f'CER for image {i}'].append(cer)\n",
        "    df[f'WER for image {i}'].append(wer)"
      ]
    },
    {
      "cell_type": "markdown",
      "metadata": {
        "id": "Kcx3N1b_x8t7"
      },
      "source": [
        "### Calculating CER and WER for PaddlePaddleOCR model predicted text"
      ]
    },
    {
      "cell_type": "code",
      "execution_count": null,
      "metadata": {
        "id": "3IErmgAYyAAR"
      },
      "outputs": [],
      "source": [
        "for i in range(1,16):\n",
        "  for input_img in image_type:\n",
        "    cer, wer = LevenshteinDist(original_text[f'image {i}'], predicted_text[f'{input_img} image {i} PaddlePaddleOCR text'])\n",
        "    df[f'CER for image {i}'].append(cer)\n",
        "    df[f'WER for image {i}'].append(wer)"
      ]
    },
    {
      "cell_type": "markdown",
      "metadata": {
        "id": "Nzj547CY0c69"
      },
      "source": [
        "### Creating DataFrame"
      ]
    },
    {
      "cell_type": "code",
      "execution_count": null,
      "metadata": {
        "id": "akrlmm0AAwy0"
      },
      "outputs": [],
      "source": [
        "df = pd.DataFrame.from_dict(df)\n",
        "df"
      ]
    },
    {
      "cell_type": "code",
      "execution_count": null,
      "metadata": {
        "id": "BCvMAeK3e6Qh",
        "colab": {
          "base_uri": "https://localhost:8080/",
          "height": 802
        },
        "outputId": "e913512e-20dc-42e4-9a8c-fa4c63d12ec6"
      },
      "outputs": [
        {
          "output_type": "execute_result",
          "data": {
            "text/plain": [
              "           Image input type and model   AVG CER   AVG WER\n",
              "0                         BGR EasyOCR  0.013833  0.057080\n",
              "1                     BGR pyTesseract  0.013673  0.055947\n",
              "2                 BGR PaddlePaddleOCR  0.013833  0.057080\n",
              "3                         RGB EasyOCR  0.024507  0.085300\n",
              "4                     RGB pyTesseract  0.012113  0.060233\n",
              "5                 RGB PaddlePaddleOCR  0.013393  0.071187\n",
              "6                   GrayScale EasyOCR  0.012380  0.062133\n",
              "7               GrayScale pyTesseract  0.024507  0.085300\n",
              "8           GrayScale PaddlePaddleOCR  0.032880  0.119220\n",
              "9                     OTSU_85 EasyOCR  0.031820  0.101553\n",
              "10                OTSU_85 pyTesseract  0.030500  0.108113\n",
              "11            OTSU_85 PaddlePaddleOCR  0.030740  0.111527\n",
              "12                BGR Sharpen EasyOCR  0.017073  0.078393\n",
              "13            BGR Sharpen pyTesseract  0.017073  0.078393\n",
              "14        BGR Sharpen PaddlePaddleOCR  0.016927  0.077287\n",
              "15                RGB Sharpen EasyOCR  0.030740  0.111527\n",
              "16            RGB Sharpen pyTesseract  0.075613  0.209760\n",
              "17        RGB Sharpen PaddlePaddleOCR  0.065073  0.192927\n",
              "18          GrayScale Sharpen EasyOCR  0.078107  0.211213\n",
              "19      GrayScale Sharpen pyTesseract  0.079360  0.226000\n",
              "20  GrayScale Sharpen PaddlePaddleOCR  0.074600  0.213580\n",
              "21            OTSU_85 Sharpen EasyOCR  0.077753  0.221160\n",
              "22        OTSU_85 Sharpen pyTesseract  0.072640  0.196420\n",
              "23    OTSU_85 Sharpen PaddlePaddleOCR  0.079360  0.226000"
            ],
            "text/html": [
              "\n",
              "  <div id=\"df-4515b427-f4a6-4bbd-8b0b-bca50d6b2a45\" class=\"colab-df-container\">\n",
              "    <div>\n",
              "<style scoped>\n",
              "    .dataframe tbody tr th:only-of-type {\n",
              "        vertical-align: middle;\n",
              "    }\n",
              "\n",
              "    .dataframe tbody tr th {\n",
              "        vertical-align: top;\n",
              "    }\n",
              "\n",
              "    .dataframe thead th {\n",
              "        text-align: right;\n",
              "    }\n",
              "</style>\n",
              "<table border=\"1\" class=\"dataframe\">\n",
              "  <thead>\n",
              "    <tr style=\"text-align: right;\">\n",
              "      <th></th>\n",
              "      <th>Image input type and model</th>\n",
              "      <th>AVG CER</th>\n",
              "      <th>AVG WER</th>\n",
              "    </tr>\n",
              "  </thead>\n",
              "  <tbody>\n",
              "    <tr>\n",
              "      <th>0</th>\n",
              "      <td>BGR EasyOCR</td>\n",
              "      <td>0.013833</td>\n",
              "      <td>0.057080</td>\n",
              "    </tr>\n",
              "    <tr>\n",
              "      <th>1</th>\n",
              "      <td>BGR pyTesseract</td>\n",
              "      <td>0.013673</td>\n",
              "      <td>0.055947</td>\n",
              "    </tr>\n",
              "    <tr>\n",
              "      <th>2</th>\n",
              "      <td>BGR PaddlePaddleOCR</td>\n",
              "      <td>0.013833</td>\n",
              "      <td>0.057080</td>\n",
              "    </tr>\n",
              "    <tr>\n",
              "      <th>3</th>\n",
              "      <td>RGB EasyOCR</td>\n",
              "      <td>0.024507</td>\n",
              "      <td>0.085300</td>\n",
              "    </tr>\n",
              "    <tr>\n",
              "      <th>4</th>\n",
              "      <td>RGB pyTesseract</td>\n",
              "      <td>0.012113</td>\n",
              "      <td>0.060233</td>\n",
              "    </tr>\n",
              "    <tr>\n",
              "      <th>5</th>\n",
              "      <td>RGB PaddlePaddleOCR</td>\n",
              "      <td>0.013393</td>\n",
              "      <td>0.071187</td>\n",
              "    </tr>\n",
              "    <tr>\n",
              "      <th>6</th>\n",
              "      <td>GrayScale EasyOCR</td>\n",
              "      <td>0.012380</td>\n",
              "      <td>0.062133</td>\n",
              "    </tr>\n",
              "    <tr>\n",
              "      <th>7</th>\n",
              "      <td>GrayScale pyTesseract</td>\n",
              "      <td>0.024507</td>\n",
              "      <td>0.085300</td>\n",
              "    </tr>\n",
              "    <tr>\n",
              "      <th>8</th>\n",
              "      <td>GrayScale PaddlePaddleOCR</td>\n",
              "      <td>0.032880</td>\n",
              "      <td>0.119220</td>\n",
              "    </tr>\n",
              "    <tr>\n",
              "      <th>9</th>\n",
              "      <td>OTSU_85 EasyOCR</td>\n",
              "      <td>0.031820</td>\n",
              "      <td>0.101553</td>\n",
              "    </tr>\n",
              "    <tr>\n",
              "      <th>10</th>\n",
              "      <td>OTSU_85 pyTesseract</td>\n",
              "      <td>0.030500</td>\n",
              "      <td>0.108113</td>\n",
              "    </tr>\n",
              "    <tr>\n",
              "      <th>11</th>\n",
              "      <td>OTSU_85 PaddlePaddleOCR</td>\n",
              "      <td>0.030740</td>\n",
              "      <td>0.111527</td>\n",
              "    </tr>\n",
              "    <tr>\n",
              "      <th>12</th>\n",
              "      <td>BGR Sharpen EasyOCR</td>\n",
              "      <td>0.017073</td>\n",
              "      <td>0.078393</td>\n",
              "    </tr>\n",
              "    <tr>\n",
              "      <th>13</th>\n",
              "      <td>BGR Sharpen pyTesseract</td>\n",
              "      <td>0.017073</td>\n",
              "      <td>0.078393</td>\n",
              "    </tr>\n",
              "    <tr>\n",
              "      <th>14</th>\n",
              "      <td>BGR Sharpen PaddlePaddleOCR</td>\n",
              "      <td>0.016927</td>\n",
              "      <td>0.077287</td>\n",
              "    </tr>\n",
              "    <tr>\n",
              "      <th>15</th>\n",
              "      <td>RGB Sharpen EasyOCR</td>\n",
              "      <td>0.030740</td>\n",
              "      <td>0.111527</td>\n",
              "    </tr>\n",
              "    <tr>\n",
              "      <th>16</th>\n",
              "      <td>RGB Sharpen pyTesseract</td>\n",
              "      <td>0.075613</td>\n",
              "      <td>0.209760</td>\n",
              "    </tr>\n",
              "    <tr>\n",
              "      <th>17</th>\n",
              "      <td>RGB Sharpen PaddlePaddleOCR</td>\n",
              "      <td>0.065073</td>\n",
              "      <td>0.192927</td>\n",
              "    </tr>\n",
              "    <tr>\n",
              "      <th>18</th>\n",
              "      <td>GrayScale Sharpen EasyOCR</td>\n",
              "      <td>0.078107</td>\n",
              "      <td>0.211213</td>\n",
              "    </tr>\n",
              "    <tr>\n",
              "      <th>19</th>\n",
              "      <td>GrayScale Sharpen pyTesseract</td>\n",
              "      <td>0.079360</td>\n",
              "      <td>0.226000</td>\n",
              "    </tr>\n",
              "    <tr>\n",
              "      <th>20</th>\n",
              "      <td>GrayScale Sharpen PaddlePaddleOCR</td>\n",
              "      <td>0.074600</td>\n",
              "      <td>0.213580</td>\n",
              "    </tr>\n",
              "    <tr>\n",
              "      <th>21</th>\n",
              "      <td>OTSU_85 Sharpen EasyOCR</td>\n",
              "      <td>0.077753</td>\n",
              "      <td>0.221160</td>\n",
              "    </tr>\n",
              "    <tr>\n",
              "      <th>22</th>\n",
              "      <td>OTSU_85 Sharpen pyTesseract</td>\n",
              "      <td>0.072640</td>\n",
              "      <td>0.196420</td>\n",
              "    </tr>\n",
              "    <tr>\n",
              "      <th>23</th>\n",
              "      <td>OTSU_85 Sharpen PaddlePaddleOCR</td>\n",
              "      <td>0.079360</td>\n",
              "      <td>0.226000</td>\n",
              "    </tr>\n",
              "  </tbody>\n",
              "</table>\n",
              "</div>\n",
              "    <div class=\"colab-df-buttons\">\n",
              "\n",
              "  <div class=\"colab-df-container\">\n",
              "    <button class=\"colab-df-convert\" onclick=\"convertToInteractive('df-4515b427-f4a6-4bbd-8b0b-bca50d6b2a45')\"\n",
              "            title=\"Convert this dataframe to an interactive table.\"\n",
              "            style=\"display:none;\">\n",
              "\n",
              "  <svg xmlns=\"http://www.w3.org/2000/svg\" height=\"24px\" viewBox=\"0 -960 960 960\">\n",
              "    <path d=\"M120-120v-720h720v720H120Zm60-500h600v-160H180v160Zm220 220h160v-160H400v160Zm0 220h160v-160H400v160ZM180-400h160v-160H180v160Zm440 0h160v-160H620v160ZM180-180h160v-160H180v160Zm440 0h160v-160H620v160Z\"/>\n",
              "  </svg>\n",
              "    </button>\n",
              "\n",
              "  <style>\n",
              "    .colab-df-container {\n",
              "      display:flex;\n",
              "      gap: 12px;\n",
              "    }\n",
              "\n",
              "    .colab-df-convert {\n",
              "      background-color: #E8F0FE;\n",
              "      border: none;\n",
              "      border-radius: 50%;\n",
              "      cursor: pointer;\n",
              "      display: none;\n",
              "      fill: #1967D2;\n",
              "      height: 32px;\n",
              "      padding: 0 0 0 0;\n",
              "      width: 32px;\n",
              "    }\n",
              "\n",
              "    .colab-df-convert:hover {\n",
              "      background-color: #E2EBFA;\n",
              "      box-shadow: 0px 1px 2px rgba(60, 64, 67, 0.3), 0px 1px 3px 1px rgba(60, 64, 67, 0.15);\n",
              "      fill: #174EA6;\n",
              "    }\n",
              "\n",
              "    .colab-df-buttons div {\n",
              "      margin-bottom: 4px;\n",
              "    }\n",
              "\n",
              "    [theme=dark] .colab-df-convert {\n",
              "      background-color: #3B4455;\n",
              "      fill: #D2E3FC;\n",
              "    }\n",
              "\n",
              "    [theme=dark] .colab-df-convert:hover {\n",
              "      background-color: #434B5C;\n",
              "      box-shadow: 0px 1px 3px 1px rgba(0, 0, 0, 0.15);\n",
              "      filter: drop-shadow(0px 1px 2px rgba(0, 0, 0, 0.3));\n",
              "      fill: #FFFFFF;\n",
              "    }\n",
              "  </style>\n",
              "\n",
              "    <script>\n",
              "      const buttonEl =\n",
              "        document.querySelector('#df-4515b427-f4a6-4bbd-8b0b-bca50d6b2a45 button.colab-df-convert');\n",
              "      buttonEl.style.display =\n",
              "        google.colab.kernel.accessAllowed ? 'block' : 'none';\n",
              "\n",
              "      async function convertToInteractive(key) {\n",
              "        const element = document.querySelector('#df-4515b427-f4a6-4bbd-8b0b-bca50d6b2a45');\n",
              "        const dataTable =\n",
              "          await google.colab.kernel.invokeFunction('convertToInteractive',\n",
              "                                                    [key], {});\n",
              "        if (!dataTable) return;\n",
              "\n",
              "        const docLinkHtml = 'Like what you see? Visit the ' +\n",
              "          '<a target=\"_blank\" href=https://colab.research.google.com/notebooks/data_table.ipynb>data table notebook</a>'\n",
              "          + ' to learn more about interactive tables.';\n",
              "        element.innerHTML = '';\n",
              "        dataTable['output_type'] = 'display_data';\n",
              "        await google.colab.output.renderOutput(dataTable, element);\n",
              "        const docLink = document.createElement('div');\n",
              "        docLink.innerHTML = docLinkHtml;\n",
              "        element.appendChild(docLink);\n",
              "      }\n",
              "    </script>\n",
              "  </div>\n",
              "\n",
              "\n",
              "<div id=\"df-8ce952b9-722f-49d0-9eaa-fc65a7fe3602\">\n",
              "  <button class=\"colab-df-quickchart\" onclick=\"quickchart('df-8ce952b9-722f-49d0-9eaa-fc65a7fe3602')\"\n",
              "            title=\"Suggest charts\"\n",
              "            style=\"display:none;\">\n",
              "\n",
              "<svg xmlns=\"http://www.w3.org/2000/svg\" height=\"24px\"viewBox=\"0 0 24 24\"\n",
              "     width=\"24px\">\n",
              "    <g>\n",
              "        <path d=\"M19 3H5c-1.1 0-2 .9-2 2v14c0 1.1.9 2 2 2h14c1.1 0 2-.9 2-2V5c0-1.1-.9-2-2-2zM9 17H7v-7h2v7zm4 0h-2V7h2v10zm4 0h-2v-4h2v4z\"/>\n",
              "    </g>\n",
              "</svg>\n",
              "  </button>\n",
              "\n",
              "<style>\n",
              "  .colab-df-quickchart {\n",
              "      --bg-color: #E8F0FE;\n",
              "      --fill-color: #1967D2;\n",
              "      --hover-bg-color: #E2EBFA;\n",
              "      --hover-fill-color: #174EA6;\n",
              "      --disabled-fill-color: #AAA;\n",
              "      --disabled-bg-color: #DDD;\n",
              "  }\n",
              "\n",
              "  [theme=dark] .colab-df-quickchart {\n",
              "      --bg-color: #3B4455;\n",
              "      --fill-color: #D2E3FC;\n",
              "      --hover-bg-color: #434B5C;\n",
              "      --hover-fill-color: #FFFFFF;\n",
              "      --disabled-bg-color: #3B4455;\n",
              "      --disabled-fill-color: #666;\n",
              "  }\n",
              "\n",
              "  .colab-df-quickchart {\n",
              "    background-color: var(--bg-color);\n",
              "    border: none;\n",
              "    border-radius: 50%;\n",
              "    cursor: pointer;\n",
              "    display: none;\n",
              "    fill: var(--fill-color);\n",
              "    height: 32px;\n",
              "    padding: 0;\n",
              "    width: 32px;\n",
              "  }\n",
              "\n",
              "  .colab-df-quickchart:hover {\n",
              "    background-color: var(--hover-bg-color);\n",
              "    box-shadow: 0 1px 2px rgba(60, 64, 67, 0.3), 0 1px 3px 1px rgba(60, 64, 67, 0.15);\n",
              "    fill: var(--button-hover-fill-color);\n",
              "  }\n",
              "\n",
              "  .colab-df-quickchart-complete:disabled,\n",
              "  .colab-df-quickchart-complete:disabled:hover {\n",
              "    background-color: var(--disabled-bg-color);\n",
              "    fill: var(--disabled-fill-color);\n",
              "    box-shadow: none;\n",
              "  }\n",
              "\n",
              "  .colab-df-spinner {\n",
              "    border: 2px solid var(--fill-color);\n",
              "    border-color: transparent;\n",
              "    border-bottom-color: var(--fill-color);\n",
              "    animation:\n",
              "      spin 1s steps(1) infinite;\n",
              "  }\n",
              "\n",
              "  @keyframes spin {\n",
              "    0% {\n",
              "      border-color: transparent;\n",
              "      border-bottom-color: var(--fill-color);\n",
              "      border-left-color: var(--fill-color);\n",
              "    }\n",
              "    20% {\n",
              "      border-color: transparent;\n",
              "      border-left-color: var(--fill-color);\n",
              "      border-top-color: var(--fill-color);\n",
              "    }\n",
              "    30% {\n",
              "      border-color: transparent;\n",
              "      border-left-color: var(--fill-color);\n",
              "      border-top-color: var(--fill-color);\n",
              "      border-right-color: var(--fill-color);\n",
              "    }\n",
              "    40% {\n",
              "      border-color: transparent;\n",
              "      border-right-color: var(--fill-color);\n",
              "      border-top-color: var(--fill-color);\n",
              "    }\n",
              "    60% {\n",
              "      border-color: transparent;\n",
              "      border-right-color: var(--fill-color);\n",
              "    }\n",
              "    80% {\n",
              "      border-color: transparent;\n",
              "      border-right-color: var(--fill-color);\n",
              "      border-bottom-color: var(--fill-color);\n",
              "    }\n",
              "    90% {\n",
              "      border-color: transparent;\n",
              "      border-bottom-color: var(--fill-color);\n",
              "    }\n",
              "  }\n",
              "</style>\n",
              "\n",
              "  <script>\n",
              "    async function quickchart(key) {\n",
              "      const quickchartButtonEl =\n",
              "        document.querySelector('#' + key + ' button');\n",
              "      quickchartButtonEl.disabled = true;  // To prevent multiple clicks.\n",
              "      quickchartButtonEl.classList.add('colab-df-spinner');\n",
              "      try {\n",
              "        const charts = await google.colab.kernel.invokeFunction(\n",
              "            'suggestCharts', [key], {});\n",
              "      } catch (error) {\n",
              "        console.error('Error during call to suggestCharts:', error);\n",
              "      }\n",
              "      quickchartButtonEl.classList.remove('colab-df-spinner');\n",
              "      quickchartButtonEl.classList.add('colab-df-quickchart-complete');\n",
              "    }\n",
              "    (() => {\n",
              "      let quickchartButtonEl =\n",
              "        document.querySelector('#df-8ce952b9-722f-49d0-9eaa-fc65a7fe3602 button');\n",
              "      quickchartButtonEl.style.display =\n",
              "        google.colab.kernel.accessAllowed ? 'block' : 'none';\n",
              "    })();\n",
              "  </script>\n",
              "</div>\n",
              "    </div>\n",
              "  </div>\n"
            ]
          },
          "metadata": {},
          "execution_count": 26
        }
      ],
      "source": [
        "temp_cer = 0\n",
        "temp_wer = 0\n",
        "\n",
        "for i in range(1, 16):\n",
        "  temp_cer += df[f'CER for image {i}']\n",
        "  temp_wer += df[f'WER for image {i}']\n",
        "\n",
        "df['AVG CER'] = temp_cer/15\n",
        "df['AVG WER'] = temp_wer/15\n",
        "\n",
        "df[['Image input type and model', 'AVG CER', 'AVG WER']]"
      ]
    },
    {
      "cell_type": "markdown",
      "metadata": {
        "id": "wCTlLN8oIwf8"
      },
      "source": [
        "### Best image input type and OCR model based on Average CER Value"
      ]
    },
    {
      "cell_type": "code",
      "execution_count": null,
      "metadata": {
        "id": "hJirAdYyH6oY",
        "colab": {
          "base_uri": "https://localhost:8080/",
          "height": 81
        },
        "outputId": "193b8ecb-924f-4fb1-8055-e5e80eb8b56b"
      },
      "outputs": [
        {
          "output_type": "execute_result",
          "data": {
            "text/plain": [
              "  Image input type and model   AVG CER\n",
              "4            RGB pyTesseract  0.012113"
            ],
            "text/html": [
              "\n",
              "  <div id=\"df-9f7cf154-17d4-4c1a-b6fb-4b3017f1b946\" class=\"colab-df-container\">\n",
              "    <div>\n",
              "<style scoped>\n",
              "    .dataframe tbody tr th:only-of-type {\n",
              "        vertical-align: middle;\n",
              "    }\n",
              "\n",
              "    .dataframe tbody tr th {\n",
              "        vertical-align: top;\n",
              "    }\n",
              "\n",
              "    .dataframe thead th {\n",
              "        text-align: right;\n",
              "    }\n",
              "</style>\n",
              "<table border=\"1\" class=\"dataframe\">\n",
              "  <thead>\n",
              "    <tr style=\"text-align: right;\">\n",
              "      <th></th>\n",
              "      <th>Image input type and model</th>\n",
              "      <th>AVG CER</th>\n",
              "    </tr>\n",
              "  </thead>\n",
              "  <tbody>\n",
              "    <tr>\n",
              "      <th>4</th>\n",
              "      <td>RGB pyTesseract</td>\n",
              "      <td>0.012113</td>\n",
              "    </tr>\n",
              "  </tbody>\n",
              "</table>\n",
              "</div>\n",
              "    <div class=\"colab-df-buttons\">\n",
              "\n",
              "  <div class=\"colab-df-container\">\n",
              "    <button class=\"colab-df-convert\" onclick=\"convertToInteractive('df-9f7cf154-17d4-4c1a-b6fb-4b3017f1b946')\"\n",
              "            title=\"Convert this dataframe to an interactive table.\"\n",
              "            style=\"display:none;\">\n",
              "\n",
              "  <svg xmlns=\"http://www.w3.org/2000/svg\" height=\"24px\" viewBox=\"0 -960 960 960\">\n",
              "    <path d=\"M120-120v-720h720v720H120Zm60-500h600v-160H180v160Zm220 220h160v-160H400v160Zm0 220h160v-160H400v160ZM180-400h160v-160H180v160Zm440 0h160v-160H620v160ZM180-180h160v-160H180v160Zm440 0h160v-160H620v160Z\"/>\n",
              "  </svg>\n",
              "    </button>\n",
              "\n",
              "  <style>\n",
              "    .colab-df-container {\n",
              "      display:flex;\n",
              "      gap: 12px;\n",
              "    }\n",
              "\n",
              "    .colab-df-convert {\n",
              "      background-color: #E8F0FE;\n",
              "      border: none;\n",
              "      border-radius: 50%;\n",
              "      cursor: pointer;\n",
              "      display: none;\n",
              "      fill: #1967D2;\n",
              "      height: 32px;\n",
              "      padding: 0 0 0 0;\n",
              "      width: 32px;\n",
              "    }\n",
              "\n",
              "    .colab-df-convert:hover {\n",
              "      background-color: #E2EBFA;\n",
              "      box-shadow: 0px 1px 2px rgba(60, 64, 67, 0.3), 0px 1px 3px 1px rgba(60, 64, 67, 0.15);\n",
              "      fill: #174EA6;\n",
              "    }\n",
              "\n",
              "    .colab-df-buttons div {\n",
              "      margin-bottom: 4px;\n",
              "    }\n",
              "\n",
              "    [theme=dark] .colab-df-convert {\n",
              "      background-color: #3B4455;\n",
              "      fill: #D2E3FC;\n",
              "    }\n",
              "\n",
              "    [theme=dark] .colab-df-convert:hover {\n",
              "      background-color: #434B5C;\n",
              "      box-shadow: 0px 1px 3px 1px rgba(0, 0, 0, 0.15);\n",
              "      filter: drop-shadow(0px 1px 2px rgba(0, 0, 0, 0.3));\n",
              "      fill: #FFFFFF;\n",
              "    }\n",
              "  </style>\n",
              "\n",
              "    <script>\n",
              "      const buttonEl =\n",
              "        document.querySelector('#df-9f7cf154-17d4-4c1a-b6fb-4b3017f1b946 button.colab-df-convert');\n",
              "      buttonEl.style.display =\n",
              "        google.colab.kernel.accessAllowed ? 'block' : 'none';\n",
              "\n",
              "      async function convertToInteractive(key) {\n",
              "        const element = document.querySelector('#df-9f7cf154-17d4-4c1a-b6fb-4b3017f1b946');\n",
              "        const dataTable =\n",
              "          await google.colab.kernel.invokeFunction('convertToInteractive',\n",
              "                                                    [key], {});\n",
              "        if (!dataTable) return;\n",
              "\n",
              "        const docLinkHtml = 'Like what you see? Visit the ' +\n",
              "          '<a target=\"_blank\" href=https://colab.research.google.com/notebooks/data_table.ipynb>data table notebook</a>'\n",
              "          + ' to learn more about interactive tables.';\n",
              "        element.innerHTML = '';\n",
              "        dataTable['output_type'] = 'display_data';\n",
              "        await google.colab.output.renderOutput(dataTable, element);\n",
              "        const docLink = document.createElement('div');\n",
              "        docLink.innerHTML = docLinkHtml;\n",
              "        element.appendChild(docLink);\n",
              "      }\n",
              "    </script>\n",
              "  </div>\n",
              "\n",
              "    </div>\n",
              "  </div>\n"
            ]
          },
          "metadata": {},
          "execution_count": 27
        }
      ],
      "source": [
        "df[df['AVG CER'] == min(df['AVG CER'])][['Image input type and model', 'AVG CER']]"
      ]
    },
    {
      "cell_type": "markdown",
      "metadata": {
        "id": "pHKJLl6aI4Lh"
      },
      "source": [
        "### Best image input type and OCR model based on Average WER Value"
      ]
    },
    {
      "cell_type": "code",
      "execution_count": null,
      "metadata": {
        "id": "Cjyl2A4WID8k",
        "colab": {
          "base_uri": "https://localhost:8080/",
          "height": 81
        },
        "outputId": "9906ff21-8b14-4d2d-fa2b-0dd4d9e9bc8a"
      },
      "outputs": [
        {
          "output_type": "execute_result",
          "data": {
            "text/plain": [
              "  Image input type and model   AVG WER\n",
              "1            BGR pyTesseract  0.055947"
            ],
            "text/html": [
              "\n",
              "  <div id=\"df-54593818-f1cb-4a01-9f44-d07892152042\" class=\"colab-df-container\">\n",
              "    <div>\n",
              "<style scoped>\n",
              "    .dataframe tbody tr th:only-of-type {\n",
              "        vertical-align: middle;\n",
              "    }\n",
              "\n",
              "    .dataframe tbody tr th {\n",
              "        vertical-align: top;\n",
              "    }\n",
              "\n",
              "    .dataframe thead th {\n",
              "        text-align: right;\n",
              "    }\n",
              "</style>\n",
              "<table border=\"1\" class=\"dataframe\">\n",
              "  <thead>\n",
              "    <tr style=\"text-align: right;\">\n",
              "      <th></th>\n",
              "      <th>Image input type and model</th>\n",
              "      <th>AVG WER</th>\n",
              "    </tr>\n",
              "  </thead>\n",
              "  <tbody>\n",
              "    <tr>\n",
              "      <th>1</th>\n",
              "      <td>BGR pyTesseract</td>\n",
              "      <td>0.055947</td>\n",
              "    </tr>\n",
              "  </tbody>\n",
              "</table>\n",
              "</div>\n",
              "    <div class=\"colab-df-buttons\">\n",
              "\n",
              "  <div class=\"colab-df-container\">\n",
              "    <button class=\"colab-df-convert\" onclick=\"convertToInteractive('df-54593818-f1cb-4a01-9f44-d07892152042')\"\n",
              "            title=\"Convert this dataframe to an interactive table.\"\n",
              "            style=\"display:none;\">\n",
              "\n",
              "  <svg xmlns=\"http://www.w3.org/2000/svg\" height=\"24px\" viewBox=\"0 -960 960 960\">\n",
              "    <path d=\"M120-120v-720h720v720H120Zm60-500h600v-160H180v160Zm220 220h160v-160H400v160Zm0 220h160v-160H400v160ZM180-400h160v-160H180v160Zm440 0h160v-160H620v160ZM180-180h160v-160H180v160Zm440 0h160v-160H620v160Z\"/>\n",
              "  </svg>\n",
              "    </button>\n",
              "\n",
              "  <style>\n",
              "    .colab-df-container {\n",
              "      display:flex;\n",
              "      gap: 12px;\n",
              "    }\n",
              "\n",
              "    .colab-df-convert {\n",
              "      background-color: #E8F0FE;\n",
              "      border: none;\n",
              "      border-radius: 50%;\n",
              "      cursor: pointer;\n",
              "      display: none;\n",
              "      fill: #1967D2;\n",
              "      height: 32px;\n",
              "      padding: 0 0 0 0;\n",
              "      width: 32px;\n",
              "    }\n",
              "\n",
              "    .colab-df-convert:hover {\n",
              "      background-color: #E2EBFA;\n",
              "      box-shadow: 0px 1px 2px rgba(60, 64, 67, 0.3), 0px 1px 3px 1px rgba(60, 64, 67, 0.15);\n",
              "      fill: #174EA6;\n",
              "    }\n",
              "\n",
              "    .colab-df-buttons div {\n",
              "      margin-bottom: 4px;\n",
              "    }\n",
              "\n",
              "    [theme=dark] .colab-df-convert {\n",
              "      background-color: #3B4455;\n",
              "      fill: #D2E3FC;\n",
              "    }\n",
              "\n",
              "    [theme=dark] .colab-df-convert:hover {\n",
              "      background-color: #434B5C;\n",
              "      box-shadow: 0px 1px 3px 1px rgba(0, 0, 0, 0.15);\n",
              "      filter: drop-shadow(0px 1px 2px rgba(0, 0, 0, 0.3));\n",
              "      fill: #FFFFFF;\n",
              "    }\n",
              "  </style>\n",
              "\n",
              "    <script>\n",
              "      const buttonEl =\n",
              "        document.querySelector('#df-54593818-f1cb-4a01-9f44-d07892152042 button.colab-df-convert');\n",
              "      buttonEl.style.display =\n",
              "        google.colab.kernel.accessAllowed ? 'block' : 'none';\n",
              "\n",
              "      async function convertToInteractive(key) {\n",
              "        const element = document.querySelector('#df-54593818-f1cb-4a01-9f44-d07892152042');\n",
              "        const dataTable =\n",
              "          await google.colab.kernel.invokeFunction('convertToInteractive',\n",
              "                                                    [key], {});\n",
              "        if (!dataTable) return;\n",
              "\n",
              "        const docLinkHtml = 'Like what you see? Visit the ' +\n",
              "          '<a target=\"_blank\" href=https://colab.research.google.com/notebooks/data_table.ipynb>data table notebook</a>'\n",
              "          + ' to learn more about interactive tables.';\n",
              "        element.innerHTML = '';\n",
              "        dataTable['output_type'] = 'display_data';\n",
              "        await google.colab.output.renderOutput(dataTable, element);\n",
              "        const docLink = document.createElement('div');\n",
              "        docLink.innerHTML = docLinkHtml;\n",
              "        element.appendChild(docLink);\n",
              "      }\n",
              "    </script>\n",
              "  </div>\n",
              "\n",
              "    </div>\n",
              "  </div>\n"
            ]
          },
          "metadata": {},
          "execution_count": 28
        }
      ],
      "source": [
        "df[df['AVG WER'] == min(df['AVG WER'])][['Image input type and model', 'AVG WER']]"
      ]
    },
    {
      "cell_type": "markdown",
      "metadata": {
        "id": "uurG8neQNChr"
      },
      "source": [
        "# 🛑🛑🛑🛑🛑🛑🛑🛑🛑🛑🛑🛑🛑🛑🛑🛑🛑🛑🛑🛑🛑🛑🛑🛑🛑🛑🛑\n",
        "### *So we can conclude that best OCR model is **pyTesseract** OCR model and best image input types are **RGB** or **BGR** based on average CER and WER values for this case. Here after I choose **BGR** as a image input type and **pyTesseract** as a OCR model for future tasks.*\n",
        "# 🛑🛑🛑🛑🛑🛑🛑🛑🛑🛑🛑🛑🛑🛑🛑🛑🛑🛑🛑🛑🛑🛑🛑🛑🛑🛑🛑🛑\n",
        "\n",
        "---\n",
        "\n"
      ]
    }
  ],
  "metadata": {
    "accelerator": "GPU",
    "colab": {
      "provenance": [],
      "gpuType": "T4"
    },
    "kernelspec": {
      "display_name": "Python 3",
      "name": "python3"
    },
    "language_info": {
      "name": "python"
    }
  },
  "nbformat": 4,
  "nbformat_minor": 0
}