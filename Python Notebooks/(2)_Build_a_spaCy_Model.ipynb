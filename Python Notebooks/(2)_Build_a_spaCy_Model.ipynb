{
  "nbformat": 4,
  "nbformat_minor": 0,
  "metadata": {
    "colab": {
      "provenance": [],
      "gpuType": "T4"
    },
    "kernelspec": {
      "name": "python3",
      "display_name": "Python 3"
    },
    "language_info": {
      "name": "python"
    },
    "accelerator": "GPU"
  },
  "cells": [
    {
      "cell_type": "code",
      "execution_count": null,
      "metadata": {
        "id": "O7D1JmND9Oq9"
      },
      "outputs": [],
      "source": [
        "!pip install spacy -U\n",
        "!pip install spacy-transformers\n",
        "!python -m spacy download en_core_web_lg\n",
        "!pip install pyproject.toml-based\n",
        "!pip install CuPy"
      ]
    },
    {
      "cell_type": "code",
      "source": [
        "!python -m spacy info"
      ],
      "metadata": {
        "colab": {
          "base_uri": "https://localhost:8080/"
        },
        "id": "79KmIMzD9nXn",
        "outputId": "e9d222f7-f3a4-498e-9828-77ada9b6b480"
      },
      "execution_count": null,
      "outputs": [
        {
          "output_type": "stream",
          "name": "stdout",
          "text": [
            "\u001b[1m\n",
            "============================== Info about spaCy ==============================\u001b[0m\n",
            "\n",
            "spaCy version    3.7.4                         \n",
            "Location         /usr/local/lib/python3.10/dist-packages/spacy\n",
            "Platform         Linux-6.1.58+-x86_64-with-glibc2.35\n",
            "Python version   3.10.12                       \n",
            "Pipelines        en_core_web_lg (3.7.1), en_core_web_sm (3.7.1)\n",
            "\n"
          ]
        }
      ]
    },
    {
      "cell_type": "code",
      "source": [
        "import spacy\n",
        "from spacy.tokens import DocBin\n",
        "from tqdm import tqdm\n",
        "import json"
      ],
      "metadata": {
        "id": "XVHkEubr_ju7"
      },
      "execution_count": null,
      "outputs": []
    },
    {
      "cell_type": "code",
      "source": [
        "nlp = spacy.blank(\"en\")"
      ],
      "metadata": {
        "id": "yE14Ct02_9IQ"
      },
      "execution_count": null,
      "outputs": []
    },
    {
      "cell_type": "code",
      "source": [
        "f = open('/content/drive/MyDrive/4th_Year/DSC4996/Spacy/train_data.json')\n",
        "train_data = json.load(f)\n",
        "train_data"
      ],
      "metadata": {
        "id": "mA373CS-b6L0"
      },
      "execution_count": null,
      "outputs": []
    },
    {
      "cell_type": "code",
      "source": [
        "db = DocBin()\n",
        "\n",
        "for text, annot in tqdm(train_data['annotations']):\n",
        "    doc = nlp.make_doc(text)\n",
        "    ents = []\n",
        "    for start, end, label in annot[\"entities\"]:\n",
        "        span = doc.char_span(start, end, label=label, alignment_mode=\"contract\")\n",
        "        if span is None:\n",
        "            print(\"Skipping entity\")\n",
        "        else:\n",
        "            ents.append(span)\n",
        "\n",
        "    doc.ents = ents\n",
        "    db.add(doc)\n",
        "\n",
        "db.to_disk(\"/content/drive/MyDrive/4th_Year/DSC4996/Spacy/train_data.spacy\")"
      ],
      "metadata": {
        "colab": {
          "base_uri": "https://localhost:8080/"
        },
        "id": "oiMbthFsBOLt",
        "outputId": "06a6f848-932c-43c7-b970-2b3eb48c6b77"
      },
      "execution_count": null,
      "outputs": [
        {
          "output_type": "stream",
          "name": "stderr",
          "text": [
            "100%|██████████| 45/45 [00:00<00:00, 884.57it/s]\n"
          ]
        }
      ]
    },
    {
      "cell_type": "code",
      "source": [
        "!python -m spacy init fill-config /content/drive/MyDrive/4th_Year/DSC4996/Spacy/base_config.cfg /content/drive/MyDrive/4th_Year/DSC4996/Spacy/config.cfg"
      ],
      "metadata": {
        "colab": {
          "base_uri": "https://localhost:8080/"
        },
        "id": "Hd5S3FTTO8RE",
        "outputId": "1d0cb791-c6b8-4b98-a681-096585e4c099"
      },
      "execution_count": null,
      "outputs": [
        {
          "output_type": "stream",
          "name": "stdout",
          "text": [
            "\u001b[38;5;2m✔ Auto-filled config with all values\u001b[0m\n",
            "\u001b[38;5;2m✔ Saved config\u001b[0m\n",
            "/content/drive/MyDrive/4th_Year/DSC4996/Spacy/config.cfg\n",
            "You can now add your data and train your pipeline:\n",
            "python -m spacy train config.cfg --paths.train ./train.spacy --paths.dev ./dev.spacy\n"
          ]
        }
      ]
    },
    {
      "cell_type": "code",
      "source": [
        "!python -m spacy train /content/drive/MyDrive/4th_Year/DSC4996/Spacy/config.cfg --output /content/drive/MyDrive/4th_Year/DSC4996/Spacy/ --paths.train /content/drive/MyDrive/4th_Year/DSC4996/Spacy/train_data.spacy --paths.dev /content/drive/MyDrive/4th_Year/DSC4996/Spacy/train_data.spacy --gpu-id 0"
      ],
      "metadata": {
        "colab": {
          "base_uri": "https://localhost:8080/"
        },
        "id": "ksb-G2LhYzjc",
        "outputId": "420db74f-c9ca-4a7f-b917-0bd65fb7a9d1"
      },
      "execution_count": null,
      "outputs": [
        {
          "output_type": "stream",
          "name": "stdout",
          "text": [
            "\u001b[38;5;4mℹ Saving to output directory:\n",
            "/content/drive/MyDrive/4th_Year/DSC4996/Spacy\u001b[0m\n",
            "\u001b[38;5;4mℹ Using GPU: 0\u001b[0m\n",
            "\u001b[1m\n",
            "=========================== Initializing pipeline ===========================\u001b[0m\n",
            "config.json: 100% 481/481 [00:00<00:00, 2.79MB/s]\n",
            "vocab.json: 100% 899k/899k [00:00<00:00, 2.72MB/s]\n",
            "merges.txt: 100% 456k/456k [00:00<00:00, 1.88MB/s]\n",
            "tokenizer.json: 100% 1.36M/1.36M [00:00<00:00, 3.29MB/s]\n",
            "model.safetensors: 100% 499M/499M [00:01<00:00, 329MB/s]\n",
            "Some weights of RobertaModel were not initialized from the model checkpoint at roberta-base and are newly initialized: ['roberta.pooler.dense.weight', 'roberta.pooler.dense.bias']\n",
            "You should probably TRAIN this model on a down-stream task to be able to use it for predictions and inference.\n",
            "\u001b[38;5;2m✔ Initialized pipeline\u001b[0m\n",
            "\u001b[1m\n",
            "============================= Training pipeline =============================\u001b[0m\n",
            "\u001b[38;5;4mℹ Pipeline: ['transformer', 'ner']\u001b[0m\n",
            "\u001b[38;5;4mℹ Initial learn rate: 0.0\u001b[0m\n",
            "E    #       LOSS TRANS...  LOSS NER  ENTS_F  ENTS_P  ENTS_R  SCORE \n",
            "---  ------  -------------  --------  ------  ------  ------  ------\n",
            "  0       0         349.64    546.48    0.05    0.03    0.19    0.00\n",
            " 66     200      169635.20  80782.98   91.01   91.28   90.75    0.91\n",
            "133     400        1267.51   1084.93  100.00  100.00  100.00    1.00\n",
            "200     600         109.25     94.99  100.00  100.00  100.00    1.00\n",
            "266     800          33.56     24.40  100.00  100.00  100.00    1.00\n",
            "333    1000           8.92      9.67  100.00  100.00  100.00    1.00\n",
            "400    1200           5.74      4.69  100.00  100.00  100.00    1.00\n",
            "466    1400          26.20     19.39  100.00  100.00  100.00    1.00\n",
            "533    1600        1154.74    861.22  100.00  100.00  100.00    1.00\n",
            "600    1800          50.06     30.22  100.00  100.00  100.00    1.00\n",
            "666    2000          13.94     10.17  100.00  100.00  100.00    1.00\n",
            "\u001b[38;5;2m✔ Saved pipeline to output directory\u001b[0m\n",
            "/content/drive/MyDrive/4th_Year/DSC4996/Spacy/model-last\n"
          ]
        }
      ]
    },
    {
      "cell_type": "code",
      "source": [
        "nlp_ner = spacy.load(\"/content/drive/MyDrive/4th_Year/DSC4996/Spacy/model-best\")"
      ],
      "metadata": {
        "id": "ilAerwP_j-1R"
      },
      "execution_count": null,
      "outputs": []
    },
    {
      "cell_type": "code",
      "source": [
        "input = \"Claims Action Sheet Policy Number: NGT01231280 Date: 08-07-2023 Doctor Name: DR.HEMANTHA Hospital Name: HEMAS HOSPITAL Description of Accident: fell from a ladder while repairing roof, sustaining multiple fractures and a severe head injury. Description of Claim: To cover initial emergency room expenses, ambulance transport, diagnostic imaging (X-rays, CT scans), 10-day hospital stay, including intensive care unit (ICU) costs, surgical procedures to repair fractures, and medications, medical expenses, income loss, and potential permanent disability due to the arm injury. Amount (Rs.): 5000\"\n",
        "doc = nlp_ner(input)\n",
        "spacy.displacy.render(doc, style=\"ent\", jupyter=True)"
      ],
      "metadata": {
        "id": "gC_A2Mzv_VRq"
      },
      "execution_count": null,
      "outputs": []
    }
  ]
}