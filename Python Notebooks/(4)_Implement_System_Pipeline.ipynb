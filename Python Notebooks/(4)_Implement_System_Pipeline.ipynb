{
  "cells": [
    {
      "cell_type": "code",
      "execution_count": null,
      "metadata": {
        "id": "0_oG4Q1Egf33"
      },
      "outputs": [],
      "source": [
        "!pip install spacy -U\n",
        "!pip install spacy-transformers\n",
        "!pip install pytesseract -U\n",
        "!apt install tesseract-ocr\n",
        "!apt install libtesseract-dev"
      ]
    },
    {
      "cell_type": "code",
      "execution_count": null,
      "metadata": {
        "colab": {
          "base_uri": "https://localhost:8080/"
        },
        "id": "NibGc-Tygiom",
        "outputId": "127cc44c-dc30-48de-a8ae-1519e76b7306"
      },
      "outputs": [
        {
          "output_type": "stream",
          "name": "stdout",
          "text": [
            "\u001b[1m\n",
            "============================== Info about spaCy ==============================\u001b[0m\n",
            "\n",
            "spaCy version    3.7.3                         \n",
            "Location         /usr/local/lib/python3.10/dist-packages/spacy\n",
            "Platform         Linux-6.1.58+-x86_64-with-glibc2.35\n",
            "Python version   3.10.12                       \n",
            "Pipelines        en_core_web_sm (3.7.1)        \n",
            "\n"
          ]
        }
      ],
      "source": [
        "!python -m spacy info"
      ]
    },
    {
      "cell_type": "code",
      "execution_count": null,
      "metadata": {
        "id": "eZcCTE7TgmXa"
      },
      "outputs": [],
      "source": [
        "import spacy\n",
        "import pandas as pd\n",
        "import cv2 as cv\n",
        "import pytesseract\n",
        "import matplotlib.pyplot as plt\n",
        "import textwrap"
      ]
    },
    {
      "cell_type": "code",
      "execution_count": null,
      "metadata": {
        "id": "gf2W9lzzUZi6"
      },
      "outputs": [],
      "source": [
        "nlp_ner = spacy.load(\"/content/drive/MyDrive/4th_Year/DSC4996/Spacy/model-best\")\n",
        "df = pd.read_excel('/content/drive/MyDrive/4th_Year/DSC4996/Preprocessed_data.xlsx')"
      ]
    },
    {
      "cell_type": "code",
      "execution_count": null,
      "metadata": {
        "id": "ohU72ru81Ro6"
      },
      "outputs": [],
      "source": [
        "def pytes(image):\n",
        "  result = pytesseract.image_to_string(image)\n",
        "  result = ' '.join(result.split())\n",
        "  result = result.replace('  ', ' ').replace('   ', ' ').replace('    ', ' ')\n",
        "  return result"
      ]
    },
    {
      "cell_type": "code",
      "execution_count": null,
      "metadata": {
        "id": "aYQEIvSh1WIq"
      },
      "outputs": [],
      "source": [
        "img = cv.imread(f'/content/drive/MyDrive/4th_Year/DSC4996/Claim_forms/23.png')\n",
        "plt.imshow(img)\n",
        "plt.axis('off')"
      ]
    },
    {
      "cell_type": "code",
      "execution_count": null,
      "metadata": {
        "id": "Bri3qwXQ1WDI"
      },
      "outputs": [],
      "source": [
        "input = pytes(img)\n",
        "doc = nlp_ner(input)\n",
        "spacy.displacy.render(doc, style=\"ent\", jupyter=True)"
      ]
    },
    {
      "cell_type": "code",
      "execution_count": null,
      "metadata": {
        "id": "tHusV_jq2klr"
      },
      "outputs": [],
      "source": [
        "Policy_no = None\n",
        "Request_date = None\n",
        "Doctor_name = None\n",
        "Hospital_name = None\n",
        "Amount = None\n",
        "Types = {}\n",
        "Types_in_claim_form = []"
      ]
    },
    {
      "cell_type": "code",
      "execution_count": null,
      "metadata": {
        "id": "Q9sTLJoH2kg7"
      },
      "outputs": [],
      "source": [
        "policy_number_temp = []\n",
        "\n",
        "for entity in doc.ents:\n",
        "  if entity.label_ == 'POLICY_NO':\n",
        "    policy_number_temp.append(entity.text.replace('NGTO', 'NGT0').replace('L14', 'LI4'))\n",
        "    Policy_no = '-'.join(policy_number_temp)\n",
        "  elif entity.label_ == 'DATE':\n",
        "    Request_date = entity.text\n",
        "  elif entity.label_ == 'DOCTOR':\n",
        "    Doctor_name = entity.text\n",
        "  elif entity.label_ == 'HOSPITAL':\n",
        "    Hospital_name = entity.text\n",
        "  elif entity.label_ == 'AMOUNT':\n",
        "    Amount = int(entity.text)\n",
        "  else:\n",
        "    if entity.label_ not in Types:\n",
        "      Types[f'{entity.label_}'] = []\n",
        "    if entity.label_ not in Types_in_claim_form:\n",
        "      Types_in_claim_form.append(entity.label_)\n",
        "    Types[f'{entity.label_}'].append(entity.text)"
      ]
    },
    {
      "cell_type": "code",
      "execution_count": null,
      "metadata": {
        "id": "oo3Fet3w3mBv"
      },
      "outputs": [],
      "source": [
        "temp_df = df.iloc[list(df['PolicyNo'] == Policy_no)]\n",
        "Types_in_DB = temp_df.groupby('TYPE').size().index.tolist()\n",
        "\n",
        "registered_types = []\n",
        "unregistered_types = []\n",
        "for typ in Types_in_claim_form:\n",
        "  if typ in Types_in_DB:\n",
        "    registered_types.append(typ)\n",
        "  else:\n",
        "    unregistered_types.append(typ)\n",
        "    continue"
      ]
    },
    {
      "cell_type": "code",
      "execution_count": null,
      "metadata": {
        "colab": {
          "base_uri": "https://localhost:8080/"
        },
        "id": "vdU4yZ1P3l8f",
        "outputId": "22f2eed6-f98a-449c-b2ef-12972d05c5c6"
      },
      "outputs": [
        {
          "output_type": "stream",
          "name": "stdout",
          "text": [
            "\n",
            "* * * * * * * * * * * * * * * * * * * * SUMMARY * * * * * * * * * * * * * * * * * * * *\n",
            "\n",
            "\n",
            "(1) POLICY NUMBER :- JCA01224286\n",
            "\n",
            "(2) ACCIDENT DATE :- 09-11-2022\n",
            "\n",
            "(3) DOCTOR NAME   :- DR BANDULA Hospital\n",
            "\n",
            "(4) HOSPITAL NAME :- DURDANS HOSPITAL\n",
            "\n",
            "(5) AMOUNT        :- Rs.25000\n",
            "\n",
            "(6) CLAIM DETAILS :- \n",
            "\t\t     CASHLESS HOSPITAL COVER :- medical expenses\n",
            "\t\t     CRITICAL ILLNESS COVER :- burn treatment, skin grafts, psychological counseling, long-term care costs, specialized clothing and equipment\n",
            "\t\t     ADDITIONAL CRITICAL ILLNESS COVER :- multiple surgeries\n",
            "\t\t     PERSONAL ACCIDENT COVER :- potential home modifications\n",
            "\n",
            "(7) CLAIM STATUS :- REJECTED\n",
            "\n",
            "(8) REJECTION DETAILS :- Dear valuable JCA01224286 policy holder, you are not registered for all of the coveragesyou have requested.\n",
            "\n",
            "(9) UNREGISTERED COVERAGES :- CASHLESS HOSPITAL COVER, CRITICAL ILLNESS COVER, ADDITIONAL CRITICAL ILLNESS COVER, PERSONAL ACCIDENT COVER\n",
            "\n",
            "(10)REGISTERED COVERAGES :- ADDITIONAL ACCIDENT COVER, ADDITIONAL HOSPITAL COVER, BASIC COVER\n"
          ]
        }
      ],
      "source": [
        "print('\\n* * * * * * * * * * * * * * * * * * * * SUMMARY * * * * * * * * * * * * * * * * * * * *\\n\\n')\n",
        "print(f'(1) POLICY NUMBER :- {Policy_no}\\n')\n",
        "line_1 = f'(1) POLICY NUMBER :- {Policy_no}'\n",
        "print(f'(2) ACCIDENT DATE :- {Request_date}\\n')\n",
        "line_2 = f'(2) ACCIDENT DATE  :- {Request_date}'\n",
        "print(f'(3) DOCTOR NAME   :- {Doctor_name}\\n')\n",
        "line_3 = f'(3) DOCTOR NAME   :- {Doctor_name}'\n",
        "print(f'(4) HOSPITAL NAME :- {Hospital_name}\\n')\n",
        "line_4 = f'(4) HOSPITAL NAME  :- {Hospital_name}'\n",
        "print(f'(5) AMOUNT        :- Rs.{Amount}\\n')\n",
        "line_5 = f'(5) AMOUNT         :- Rs.{Amount}'\n",
        "print('(6) CLAIM DETAILS :- ')\n",
        "line_6 = '(6) CLAIM DETAILS   :- '\n",
        "\n",
        "claiming_coverages = []\n",
        "for key, val in Types.items():\n",
        "  print('\\t\\t    ', key, ':-', ', '.join(val))\n",
        "  temp = f\"{key} :- {', '.join(val)}\"\n",
        "  claiming_coverages.append(temp)\n",
        "\n",
        "\n",
        "exp_date = temp_df.groupby('EXPIRYDATE').size().index[0]\n",
        "exp_date = pd.to_datetime(exp_date, dayfirst = True)\n",
        "Request_date = pd.to_datetime(Request_date, dayfirst = True)\n",
        "\n",
        "if Request_date > exp_date:\n",
        "    print(f'\\n(7) CLAIM STATUS :- REJECTED\\n')\n",
        "    line_7 = '(7) CLAIM STATUS :- REJECTED'\n",
        "    print('(8) REJECTION DETAILS :- All your life insurance coverages have expired.\\n')\n",
        "    line_8 = '(8) REJECTION DETAILS :- All your life insurance coverages have expired.'\n",
        "else:\n",
        "    if len(registered_types) != 0:\n",
        "      total_suminsured = 0\n",
        "      for typ in registered_types:\n",
        "        temp_amount = sum(temp_df.iloc[list(temp_df['TYPE'] == typ)]['SUMINSURED'].tolist())\n",
        "        total_suminsured += temp_amount\n",
        "      if len(unregistered_types) != 0:\n",
        "        if total_suminsured <= Amount:\n",
        "          print('\\n(7) CLAIM STATUS :- ACCEPTED\\n')\n",
        "          line_7 = '(7) CLAIM STATUS :- ACCEPTED'\n",
        "          print(f'(8) PAYMENT NOTE :- Dear valuable {Policy_no} policy holder, you are not registered for {\", \".join(unregistered_types)} coverages. Therefore we can only payfor your {\", \".join(registered_types)} coverages. We cannot pay Rs.{Amount}. We are obligated to pay Rs.{int(total_suminsured)} only.\\n')\n",
        "          line_8 = f'(8) PAYMENT NOTE :- Dear valuable {Policy_no} policy holder, you are not registered for {\", \".join(unregistered_types)} coverages. Therefore we can only payfor your {\", \".join(registered_types)} coverages. We cannot pay Rs.{Amount}. We are obligated to pay Rs.{int(total_suminsured)} only.'\n",
        "          print(f'(9) ACCEPTED PAYING AMOUNT :- Rs.{int(total_suminsured)}\\n')\n",
        "          line_9 = f'(9) ACCEPTED PAYING AMOUNT :- Rs.{int(total_suminsured)}'\n",
        "        else:\n",
        "          print('\\n(7) CLAIM STATUS :- ACCEPTED\\n')\n",
        "          line_7 = '(7) CLAIM STATUS :- ACCEPTED'\n",
        "          print(f'(8) PAYMENT NOTE :- Dear valuable {Policy_no} policy holder, you are not registered for {\", \".join(unregistered_types)} coverages. Therefore we can only pay for your {\", \".join(registered_types)} coverages. We are obligated to pay Rs.{int(Amount)} only.\\n')\n",
        "          line_8 = f'(8) PAYMENT NOTE :- Dear valuable {Policy_no} policy holder, you are not registered for {\", \".join(unregistered_types)} coverages. Therefore we can only pay for your {\", \".join(registered_types)} coverages. We are obligated to pay Rs.{int(Amount)} only.'\n",
        "          print(f'(9) ACCEPTED PAYING AMOUNT :- Rs.{int(Amount)}\\n')\n",
        "          line_9 = f'(9) ACCEPTED PAYING AMOUNT :- Rs.{int(Amount)}'\n",
        "      else:\n",
        "        if total_suminsured <= Amount:\n",
        "          print('\\n(7) CLAIM STATUS :- ACCEPTED\\n')\n",
        "          line_7 = '(7) CLAIM STATUS :- ACCEPTED'\n",
        "          print(f\"(8) PAYMENT NOTE :- Dear valuable {Policy_no} policy holder, you're sum insured coverage limit is reached. Therefor we cannot pay Rs.{Amount}. We are obligated to pay Rs.{int(total_suminsured)} only.\\n\")\n",
        "          line_8 = f\"(8) PAYMENT NOTE :- Dear valuable {Policy_no} policy holder, you're sum insured coverage limit is reached. Therefor we cannot pay Rs.{Amount}. We are obligated to pay Rs.{int(total_suminsured)} only.\"\n",
        "          print(f'(9) ACCEPTED PAYING AMOUNT :- Rs.{int(total_suminsured)}\\n')\n",
        "          line_9 = f'(9) ACCEPTED PAYING AMOUNT :- Rs.{int(total_suminsured)}'\n",
        "        else:\n",
        "          print('\\n(7) CLAIM STATUS :- ACCEPTED')\n",
        "          line_7 = '(7) CLAIM STATUS :- ACCEPTED'\n",
        "          print(f'(8) PAYMENT NOTE :- Dear valuable {Policy_no} policy holder, We are obligated to pay Rs.{int(Amount)}.\\n')\n",
        "          line_8 = f'(8) PAYMENT NOTE :- Dear valuable {Policy_no} policy holder, We are obligated to pay Rs.{int(Amount)}.'\n",
        "          print(f'(9) ACCEPTED PAYING AMOUNT :- Rs.{Amount}\\n')\n",
        "          line_9 = f'(9) ACCEPTED PAYING AMOUNT :- Rs.{Amount}'\n",
        "    else:\n",
        "      print('\\n(7) CLAIM STATUS :- REJECTED\\n')\n",
        "      line_7 = '(7) CLAIM STATUS :- REJECTED'\n",
        "      print(f'(8) REJECTION DETAILS :- Dear valuable {Policy_no} policy holder, you are not registered for all of the coveragesyou have requested.\\n')\n",
        "      line_8 = f'(8) REJECTION DETAILS :- Dear valuable {Policy_no} policy holder, you are not registered for all of the coveragesyou have requested.'\n",
        "      print(f'(9) UNREGISTERED COVERAGES :- {\", \".join(unregistered_types)}\\n')\n",
        "      line_9 = f'(9) UNREGISTERED COVERAGES :- {\", \".join(unregistered_types)}'\n",
        "      print(f'(10)REGISTERED COVERAGES :- {\", \".join(Types_in_DB)}')\n",
        "      line_10 = f'(10)REGISTERED COVERAGES :- {\", \".join(Types_in_DB)}'\n"
      ]
    },
    {
      "cell_type": "code",
      "execution_count": null,
      "metadata": {
        "colab": {
          "base_uri": "https://localhost:8080/"
        },
        "id": "_TwvPFjqYRXG",
        "outputId": "d6c172c2-153e-4811-9b15-dae1743d8df8"
      },
      "outputs": [
        {
          "output_type": "execute_result",
          "data": {
            "text/plain": [
              "(2000, 1414, 3)"
            ]
          },
          "metadata": {},
          "execution_count": 12
        }
      ],
      "source": [
        "img_out1 = cv.imread('/content/drive/MyDrive/4th_Year/DSC4996/claim details.png')\n",
        "img_out1 = cv.cvtColor(img_out1, cv.COLOR_BGR2RGB)\n",
        "img_out1.shape"
      ]
    },
    {
      "cell_type": "code",
      "source": [
        "def wrapText(width, text, image, x, y, gap):\n",
        "  wrapper = textwrap.TextWrapper(width=width)\n",
        "  word_list = wrapper.wrap(text=text)\n",
        "\n",
        "  for words in word_list:\n",
        "    img_out = cv.putText(img = image, text = words, org = (x, y), fontFace = fontface, fontScale = fontscale, color = clr, thickness = thick)\n",
        "\n",
        "    if words == word_list[-1]:\n",
        "      y += gap\n",
        "    else:\n",
        "      y += 38\n",
        "  return image, y"
      ],
      "metadata": {
        "id": "NSTEzh9Zy27Q"
      },
      "execution_count": null,
      "outputs": []
    },
    {
      "cell_type": "code",
      "execution_count": null,
      "metadata": {
        "id": "UkmyvdA7YRTH"
      },
      "outputs": [],
      "source": [
        "x = 130\n",
        "y = 650\n",
        "fontface = cv.FONT_HERSHEY_SIMPLEX\n",
        "fontscale = 1\n",
        "clr = (0, 0, 0)\n",
        "thick = 2\n",
        "gap = 80\n",
        "\n",
        "img_out = img_out1.copy()\n",
        "\n",
        "#line 1\n",
        "img_out = cv.putText(img = img_out, text = line_1, org = (x, y), fontFace = fontface, fontScale = fontscale, color = clr, thickness = thick)\n",
        "y += gap\n",
        "\n",
        "#line 2\n",
        "img_out = cv.putText(img = img_out, text = line_2, org = (x, y), fontFace = fontface, fontScale = fontscale, color = clr, thickness = thick)\n",
        "y += gap\n",
        "\n",
        "#line 3\n",
        "img_out = cv.putText(img = img_out, text = line_3, org = (x, y), fontFace = fontface, fontScale = fontscale, color = clr, thickness = thick)\n",
        "y += gap\n",
        "\n",
        "#line 4\n",
        "img_out = cv.putText(img = img_out, text = line_4, org = (x, y), fontFace = fontface, fontScale = fontscale, color = clr, thickness = thick)\n",
        "y += gap\n",
        "\n",
        "#line 5\n",
        "img_out = cv.putText(img = img_out, text = line_5, org = (x, y), fontFace = fontface, fontScale = fontscale, color = clr, thickness = thick)\n",
        "y += gap\n",
        "\n",
        "#line 6\n",
        "img_out = cv.putText(img = img_out, text = line_6, org = (x, y), fontFace = fontface, fontScale = fontscale, color = clr, thickness = thick)\n",
        "y += (gap-30)\n",
        "\n",
        "#line 6.1\n",
        "x = 250\n",
        "for tmp in claiming_coverages:\n",
        "  img_out, y = wrapText(57, tmp, img_out, x, y, 55)\n",
        "\n",
        "  if tmp == claiming_coverages[-1]:\n",
        "    y += 25\n",
        "\n",
        "#line 7\n",
        "x = 130\n",
        "img_out = cv.putText(img = img_out, text = line_7, org = (x, y), fontFace = fontface, fontScale = fontscale, color = clr, thickness = thick)\n",
        "y += gap\n",
        "\n",
        "#line 8\n",
        "img_out, y = wrapText(69, line_8, img_out, x, y, gap)\n",
        "\n",
        "#line 9\n",
        "img_out, y = wrapText(65, line_9, img_out, x, y, gap)\n",
        "\n",
        "#line 10\n",
        "img_out, _ = wrapText(65, line_10, img_out, x, y, gap)"
      ]
    },
    {
      "cell_type": "code",
      "execution_count": null,
      "metadata": {
        "id": "zujIEp2RYRJ5"
      },
      "outputs": [],
      "source": [
        "fig = plt.figure(figsize=(10, 15))\n",
        "plt.imshow(img_out)"
      ]
    },
    {
      "cell_type": "code",
      "source": [],
      "metadata": {
        "id": "D9VUfS3Qv2XN"
      },
      "execution_count": null,
      "outputs": []
    },
    {
      "cell_type": "code",
      "source": [],
      "metadata": {
        "id": "uyu_wDLQv2TK"
      },
      "execution_count": null,
      "outputs": []
    },
    {
      "cell_type": "code",
      "source": [],
      "metadata": {
        "id": "Ovke0SPcv2Ob"
      },
      "execution_count": null,
      "outputs": []
    },
    {
      "cell_type": "code",
      "source": [],
      "metadata": {
        "id": "YNT9eHMhv2I8"
      },
      "execution_count": null,
      "outputs": []
    },
    {
      "cell_type": "code",
      "execution_count": null,
      "metadata": {
        "id": "-eO1BD5xH2TH"
      },
      "outputs": [],
      "source": [
        "import spacy\n",
        "import pandas as pd\n",
        "import cv2 as cv\n",
        "import pytesseract\n",
        "import matplotlib.pyplot as plt\n",
        "\n",
        "\n",
        "def pytes(image):\n",
        "  result = pytesseract.image_to_string(image)\n",
        "  result = ' '.join(result.split())\n",
        "  result = result.replace('  ', ' ').replace('   ', ' ').replace('    ', ' ')\n",
        "  return result\n",
        "\n",
        "\n",
        "nlp_ner = spacy.load(\"/content/drive/MyDrive/4th_Year/DSC4996/Spacy/model-best\")\n",
        "df = pd.read_excel('/content/drive/MyDrive/4th_Year/DSC4996/Preprocessed_data.xlsx')\n",
        "\n",
        "\n",
        "img = cv.imread(f'/content/drive/MyDrive/4th_Year/DSC4996/Claim_forms/44.png')\n",
        "plt.imshow(img)\n",
        "plt.axis('off')\n",
        "\n",
        "\n",
        "input = pytes(img)\n",
        "doc = nlp_ner(input)\n",
        "spacy.displacy.render(doc, style=\"ent\", jupyter=True)\n",
        "\n",
        "\n",
        "Policy_no = None\n",
        "Request_date = None\n",
        "Doctor_name = None\n",
        "Hospital_name = None\n",
        "Amount = None\n",
        "Types = {}\n",
        "Types_in_claim_form = []\n",
        "\n",
        "\n",
        "policy_number_temp = []\n",
        "for entity in doc.ents:\n",
        "  if entity.label_ == 'POLICY_NO':\n",
        "    policy_number_temp.append(entity.text.replace('NGTO', 'NGT0').replace('L14', 'LI4'))\n",
        "    Policy_no = '-'.join(policy_number_temp)\n",
        "  elif entity.label_ == 'DATE':\n",
        "    Request_date = entity.text\n",
        "  elif entity.label_ == 'DOCTOR':\n",
        "    Doctor_name = entity.text\n",
        "  elif entity.label_ == 'HOSPITAL':\n",
        "    Hospital_name = entity.text\n",
        "  elif entity.label_ == 'AMOUNT':\n",
        "    Amount = int(entity.text)\n",
        "  else:\n",
        "    if entity.label_ not in Types:\n",
        "      Types[f'{entity.label_}'] = []\n",
        "    if entity.label_ not in Types_in_claim_form:\n",
        "      Types_in_claim_form.append(entity.label_)\n",
        "    Types[f'{entity.label_}'].append(entity.text)\n",
        "\n",
        "\n",
        "temp_df = df.iloc[list(df['PolicyNo'] == Policy_no)]\n",
        "Types_in_DB = temp_df.groupby('TYPE').size().index.tolist()\n",
        "\n",
        "\n",
        "registered_types = []\n",
        "unregistered_types = []\n",
        "for typ in Types_in_claim_form:\n",
        "  if typ in Types_in_DB:\n",
        "    registered_types.append(typ)\n",
        "  else:\n",
        "    unregistered_types.append(typ)\n",
        "    continue\n",
        "\n",
        "\n",
        "print('\\n* * * * * * * * * * * * * * * * * * * * SUMMARY * * * * * * * * * * * * * * * * * * * *\\n\\n')\n",
        "print(f'(1)  POLICY NUMBER :- {Policy_no}\\n')\n",
        "print(f'(2)  ACCIDENT DATE :- {Request_date}\\n')\n",
        "print(f'(3)  DOCTOR NAME   :- {Doctor_name}\\n')\n",
        "print(f'(4)  HOSPITAL NAME :- {Hospital_name}\\n')\n",
        "print(f'(5)  AMOUNT        :- Rs.{Amount}\\n')\n",
        "print('(6)  CLAIM DETAILS :- ')\n",
        "for key, val in Types.items():\n",
        "  print('\\t\\t    ', key, ':-', ', '.join(val))\n",
        "\n",
        "\n",
        "exp_date = temp_df.groupby('EXPIRYDATE').size().index[0]\n",
        "exp_date = pd.to_datetime(exp_date, dayfirst = True)\n",
        "Request_date = pd.to_datetime(Request_date, dayfirst = True)\n",
        "\n",
        "if Request_date > exp_date:\n",
        "  print('\\n(7)  CLAIM STATUS :- REJECTED CLAIM REQUEST\\n')\n",
        "  print(f\"(8)  REJECTION DETAILS :- All your life insurance coverages have expired.\")\n",
        "else:\n",
        "  print('\\n(7)  CLAIM STATUS :- ACCEPTED CLAIM REQUEST\\n')\n",
        "  if len(registered_types) != 0:\n",
        "    total_suminsured = 0\n",
        "    for typ in registered_types:\n",
        "      temp_amount = sum(temp_df.iloc[list(temp_df['TYPE'] == typ)]['SUMINSURED'].tolist())\n",
        "      total_suminsured += temp_amount\n",
        "    if len(unregistered_types) != 0:\n",
        "      if total_suminsured <= Amount:\n",
        "        print(f'''(8)  PAYMENT NOTE :- Dear valuable {Policy_no} policy holder, you are not registered for {\", \".join(unregistered_types)} coverages.\n",
        "                     Therefore we can only pay for your {\", \".join(registered_types)} coverages. We cannot pay Rs.{Amount}. We are obligated to pay Rs.{int(total_suminsured)} only.''')\n",
        "      else:\n",
        "        print(f'''(8)  PAYMENT NOTE :- Dear valuable {Policy_no} policy holder, you are not registered for {\", \".join(unregistered_types)} coverages. Therefore we can only pay for your {\", \".join(registered_types)} coverages.\n",
        "                     We are obligated to pay Rs.{(Amount)} only.''')\n",
        "    else:\n",
        "      if total_suminsured <= Amount:\n",
        "        print(f'''(8)  PAYMENT NOTE :- Dear valuable {Policy_no} policy holder, you're sum insured coverage limit is reached. Therefor we cannot pay Rs.{Amount}. We are obligated to pay Rs.{int(total_suminsured)} only.''')\n",
        "      else:\n",
        "        print(f'''(8)  PAYMENT NOTE :- Dear valuable {Policy_no} policy holder, We are obligated to pay Rs.{(Amount)} only.''')\n",
        "  else:\n",
        "    print('\\n(8)  CLAIM STATUS :- REJECTED CLAIM REQUEST\\n')\n",
        "    print(f\"(9)  REJECTION DETAILS :- You are not registered for all of the coverages you have requested.\\n\")\n",
        "    print(f'(10) UNREGISTERED COVERAGES :- {\", \".join(unregistered_types)}\\n')\n",
        "    print(f\"(11) REGISTERED COVERAGES :- {', '.join(Types_in_DB)}\")\n",
        "\n",
        "print('\\n\\n* * * * * * * * * * * * * * * * * * * * * * * * * * * * * * * * * * * * * * * * * * * *\\n')"
      ]
    }
  ],
  "metadata": {
    "accelerator": "GPU",
    "colab": {
      "provenance": []
    },
    "kernelspec": {
      "display_name": "Python 3",
      "name": "python3"
    },
    "language_info": {
      "name": "python"
    }
  },
  "nbformat": 4,
  "nbformat_minor": 0
}